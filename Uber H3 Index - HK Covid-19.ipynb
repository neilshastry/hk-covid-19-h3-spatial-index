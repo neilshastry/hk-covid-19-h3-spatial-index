{
 "cells": [
  {
   "cell_type": "markdown",
   "metadata": {},
   "source": [
    "# HK Covid-19 fortnightly visualization of cases using Uber H3 Spatial Index"
   ]
  },
  {
   "cell_type": "code",
   "execution_count": null,
   "metadata": {},
   "outputs": [],
   "source": [
    "# Import all the important libraries for this project"
   ]
  },
  {
   "cell_type": "code",
   "execution_count": 1,
   "metadata": {},
   "outputs": [],
   "source": [
    "# for pandas dataframes\n",
    "import pandas as pd\n",
    "# for numpy arrays\n",
    "import numpy as np\n",
    "\n",
    "# for json and geojson data libraries\n",
    "import json\n",
    "import geojson\n",
    "\n",
    "from geojson import Feature, FeatureCollection\n",
    "\n",
    "# to handle  data retrieval from https API\n",
    "import urllib3\n",
    "from urllib3 import request\n",
    "import requests\n",
    "\n",
    "# geopandas and geopy for geolocation\n",
    "import geopandas\n",
    "import geopy\n",
    "from geopy.geocoders import Nominatim\n",
    "\n",
    "# to handle file input and outputs\n",
    "import io\n",
    "\n",
    "# for data visualization\n",
    "import matplotlib.pyplot as plt\n",
    "%matplotlib inline\n",
    "from mpltools import color\n",
    "import plotly\n",
    "import plotly.express as px\n",
    "\n",
    "# geo-spatial index and visualization libraries\n",
    "import h3\n",
    "import folium\n",
    "from folium import GeoJson\n",
    "import branca.colormap as cm"
   ]
  },
  {
   "cell_type": "code",
   "execution_count": 3,
   "metadata": {},
   "outputs": [],
   "source": [
    "# Set up dynamic date parameter to pass into HK Gov API string"
   ]
  },
  {
   "cell_type": "code",
   "execution_count": 2,
   "metadata": {},
   "outputs": [
    {
     "name": "stdout",
     "output_type": "stream",
     "text": [
      "d1 = 20210413\n"
     ]
    }
   ],
   "source": [
    "from datetime import date, timedelta\n",
    "\n",
    "today = date.today()-timedelta(1)\n",
    "d = today.strftime(\"%Y%m%d\")\n",
    "print(\"d1 =\", d)"
   ]
  },
  {
   "cell_type": "code",
   "execution_count": null,
   "metadata": {},
   "outputs": [],
   "source": [
    "# Pull data from HK Gov health website and pass into pandas dataframe"
   ]
  },
  {
   "cell_type": "code",
   "execution_count": 3,
   "metadata": {},
   "outputs": [],
   "source": [
    "result=requests.get(\"https://api.data.gov.hk/v1/historical-archive/get-file?url=http%3A%2F%2Fwww.chp.gov.hk%2Ffiles%2Fmisc%2Fbuilding_list_eng.csv&time=\" + d + \"-0906\")\n",
    "result = result.content\n",
    "data = pd.read_csv(io.StringIO(result.decode('utf-8')))"
   ]
  },
  {
   "cell_type": "code",
   "execution_count": 4,
   "metadata": {},
   "outputs": [
    {
     "data": {
      "text/html": [
       "<div>\n",
       "<style scoped>\n",
       "    .dataframe tbody tr th:only-of-type {\n",
       "        vertical-align: middle;\n",
       "    }\n",
       "\n",
       "    .dataframe tbody tr th {\n",
       "        vertical-align: top;\n",
       "    }\n",
       "\n",
       "    .dataframe thead th {\n",
       "        text-align: right;\n",
       "    }\n",
       "</style>\n",
       "<table border=\"1\" class=\"dataframe\">\n",
       "  <thead>\n",
       "    <tr style=\"text-align: right;\">\n",
       "      <th></th>\n",
       "      <th>District</th>\n",
       "      <th>Building name</th>\n",
       "      <th>Last date of residence of the case(s)</th>\n",
       "      <th>Related probable/confirmed cases</th>\n",
       "    </tr>\n",
       "  </thead>\n",
       "  <tbody>\n",
       "    <tr>\n",
       "      <th>0</th>\n",
       "      <td>Eastern</td>\n",
       "      <td>Block 7, Fullview Garden</td>\n",
       "      <td>NaN</td>\n",
       "      <td>11449</td>\n",
       "    </tr>\n",
       "    <tr>\n",
       "      <th>1</th>\n",
       "      <td>Yau Tsim Mong</td>\n",
       "      <td>The Kowloon Hotel</td>\n",
       "      <td>NaN</td>\n",
       "      <td>11450</td>\n",
       "    </tr>\n",
       "    <tr>\n",
       "      <th>2</th>\n",
       "      <td>Central &amp; Western</td>\n",
       "      <td>Ramada Hong Kong Harbour View</td>\n",
       "      <td>NaN</td>\n",
       "      <td>11452</td>\n",
       "    </tr>\n",
       "    <tr>\n",
       "      <th>3</th>\n",
       "      <td>Yau Tsim Mong</td>\n",
       "      <td>Silka Seaview Hotel Hong Kong</td>\n",
       "      <td>NaN</td>\n",
       "      <td>11453</td>\n",
       "    </tr>\n",
       "    <tr>\n",
       "      <th>4</th>\n",
       "      <td>Yau Tsim Mong</td>\n",
       "      <td>Silka Seaview Hotel Hong Kong</td>\n",
       "      <td>NaN</td>\n",
       "      <td>11454</td>\n",
       "    </tr>\n",
       "  </tbody>\n",
       "</table>\n",
       "</div>"
      ],
      "text/plain": [
       "            District                  Building name  \\\n",
       "0            Eastern       Block 7, Fullview Garden   \n",
       "1      Yau Tsim Mong              The Kowloon Hotel   \n",
       "2  Central & Western  Ramada Hong Kong Harbour View   \n",
       "3      Yau Tsim Mong  Silka Seaview Hotel Hong Kong   \n",
       "4      Yau Tsim Mong  Silka Seaview Hotel Hong Kong   \n",
       "\n",
       "  Last date of residence of the case(s) Related probable/confirmed cases  \n",
       "0                                   NaN                            11449  \n",
       "1                                   NaN                            11450  \n",
       "2                                   NaN                            11452  \n",
       "3                                   NaN                            11453  \n",
       "4                                   NaN                            11454  "
      ]
     },
     "execution_count": 4,
     "metadata": {},
     "output_type": "execute_result"
    }
   ],
   "source": [
    "data.head()"
   ]
  },
  {
   "cell_type": "code",
   "execution_count": 9,
   "metadata": {},
   "outputs": [],
   "source": [
    "# mapping latitude and longitude to district names from HK Gov API data"
   ]
  },
  {
   "cell_type": "code",
   "execution_count": 5,
   "metadata": {},
   "outputs": [],
   "source": [
    "location = [x for x in data['District'].unique().tolist() \n",
    "            if type(x) == str]\n",
    "latitude = []\n",
    "longitude =  []\n",
    "for i in range(0, len(location)):\n",
    "    # remove things that does not seem usefull here\n",
    "    try:\n",
    "        address = location[i] + ', Hong Kong, Hong Kong'\n",
    "        geolocator = Nominatim(user_agent=\"ny_explorer\")\n",
    "        loc = geolocator.geocode(address)\n",
    "        latitude.append(loc.latitude)\n",
    "        longitude.append(loc.longitude)\n",
    "    except:\n",
    "        # in the case the geolocator does not work, then add nan element to list\n",
    "        # to keep the right size\n",
    "        latitude.append(np.nan)\n",
    "        longitude.append(np.nan)\n",
    "# create a dataframe with the locatio, latitude and longitude\n",
    "df_ = pd.DataFrame({'District':location, \n",
    "                    'district_latitude': latitude,\n",
    "                    'district_longitude':longitude})\n",
    "# merge on Restaurant_Location with rest_df to get the column \n",
    "data1 = data.merge(df_, on='District', how='outer')"
   ]
  },
  {
   "cell_type": "code",
   "execution_count": 11,
   "metadata": {},
   "outputs": [],
   "source": [
    "# mapping latitude and longitude to building names from HK Gov API data"
   ]
  },
  {
   "cell_type": "code",
   "execution_count": 6,
   "metadata": {},
   "outputs": [],
   "source": [
    "location = [x for x in data['Building name'].unique().tolist() \n",
    "            if type(x) == str]\n",
    "latitude = []\n",
    "longitude =  []\n",
    "for i in range(0, len(location)):\n",
    "    # remove things that does not seem usefull here\n",
    "    try:\n",
    "        address = location[i] + ', Hong Kong, Hong Kong'\n",
    "        geolocator = Nominatim(user_agent=\"ny_explorer\")\n",
    "        loc = geolocator.geocode(address)\n",
    "        latitude.append(loc.latitude)\n",
    "        longitude.append(loc.longitude)\n",
    "    except:\n",
    "        # in the case the geolocator does not work, then add nan element to list\n",
    "        # to keep the right size\n",
    "        latitude.append(np.nan)\n",
    "        longitude.append(np.nan)\n",
    "# create a dataframe with the locatio, latitude and longitude\n",
    "df_ = pd.DataFrame({'Building name':location, \n",
    "                    'building_latitude': latitude,\n",
    "                    'building_longitude':longitude})\n",
    "# merge on Restaurant_Location with rest_df to get the column \n",
    "data2 = data1.merge(df_, on='Building name', how='left')"
   ]
  },
  {
   "cell_type": "code",
   "execution_count": 7,
   "metadata": {},
   "outputs": [
    {
     "data": {
      "text/html": [
       "<div>\n",
       "<style scoped>\n",
       "    .dataframe tbody tr th:only-of-type {\n",
       "        vertical-align: middle;\n",
       "    }\n",
       "\n",
       "    .dataframe tbody tr th {\n",
       "        vertical-align: top;\n",
       "    }\n",
       "\n",
       "    .dataframe thead th {\n",
       "        text-align: right;\n",
       "    }\n",
       "</style>\n",
       "<table border=\"1\" class=\"dataframe\">\n",
       "  <thead>\n",
       "    <tr style=\"text-align: right;\">\n",
       "      <th></th>\n",
       "      <th>District</th>\n",
       "      <th>Building name</th>\n",
       "      <th>Last date of residence of the case(s)</th>\n",
       "      <th>Related probable/confirmed cases</th>\n",
       "      <th>district_latitude</th>\n",
       "      <th>district_longitude</th>\n",
       "      <th>building_latitude</th>\n",
       "      <th>building_longitude</th>\n",
       "    </tr>\n",
       "  </thead>\n",
       "  <tbody>\n",
       "    <tr>\n",
       "      <th>0</th>\n",
       "      <td>Eastern</td>\n",
       "      <td>Block 7, Fullview Garden</td>\n",
       "      <td>NaN</td>\n",
       "      <td>11449</td>\n",
       "      <td>22.273078</td>\n",
       "      <td>114.233594</td>\n",
       "      <td>22.263548</td>\n",
       "      <td>114.251822</td>\n",
       "    </tr>\n",
       "    <tr>\n",
       "      <th>1</th>\n",
       "      <td>Eastern</td>\n",
       "      <td>Continental Mansion</td>\n",
       "      <td>NaN</td>\n",
       "      <td>11477</td>\n",
       "      <td>22.273078</td>\n",
       "      <td>114.233594</td>\n",
       "      <td>22.289805</td>\n",
       "      <td>114.195564</td>\n",
       "    </tr>\n",
       "    <tr>\n",
       "      <th>2</th>\n",
       "      <td>Eastern</td>\n",
       "      <td>Ramada Hong Kong Grand View</td>\n",
       "      <td>NaN</td>\n",
       "      <td>11480</td>\n",
       "      <td>22.273078</td>\n",
       "      <td>114.233594</td>\n",
       "      <td>NaN</td>\n",
       "      <td>NaN</td>\n",
       "    </tr>\n",
       "    <tr>\n",
       "      <th>3</th>\n",
       "      <td>Eastern</td>\n",
       "      <td>Continental Mansion</td>\n",
       "      <td>NaN</td>\n",
       "      <td>11491</td>\n",
       "      <td>22.273078</td>\n",
       "      <td>114.233594</td>\n",
       "      <td>22.289805</td>\n",
       "      <td>114.195564</td>\n",
       "    </tr>\n",
       "    <tr>\n",
       "      <th>4</th>\n",
       "      <td>Eastern</td>\n",
       "      <td>Ramada Hong Kong Grand View</td>\n",
       "      <td>NaN</td>\n",
       "      <td>11506</td>\n",
       "      <td>22.273078</td>\n",
       "      <td>114.233594</td>\n",
       "      <td>NaN</td>\n",
       "      <td>NaN</td>\n",
       "    </tr>\n",
       "  </tbody>\n",
       "</table>\n",
       "</div>"
      ],
      "text/plain": [
       "  District                Building name Last date of residence of the case(s)  \\\n",
       "0  Eastern     Block 7, Fullview Garden                                   NaN   \n",
       "1  Eastern          Continental Mansion                                   NaN   \n",
       "2  Eastern  Ramada Hong Kong Grand View                                   NaN   \n",
       "3  Eastern          Continental Mansion                                   NaN   \n",
       "4  Eastern  Ramada Hong Kong Grand View                                   NaN   \n",
       "\n",
       "  Related probable/confirmed cases  district_latitude  district_longitude  \\\n",
       "0                            11449          22.273078          114.233594   \n",
       "1                            11477          22.273078          114.233594   \n",
       "2                            11480          22.273078          114.233594   \n",
       "3                            11491          22.273078          114.233594   \n",
       "4                            11506          22.273078          114.233594   \n",
       "\n",
       "   building_latitude  building_longitude  \n",
       "0          22.263548          114.251822  \n",
       "1          22.289805          114.195564  \n",
       "2                NaN                 NaN  \n",
       "3          22.289805          114.195564  \n",
       "4                NaN                 NaN  "
      ]
     },
     "execution_count": 7,
     "metadata": {},
     "output_type": "execute_result"
    }
   ],
   "source": [
    "data2.head()"
   ]
  },
  {
   "cell_type": "code",
   "execution_count": null,
   "metadata": {},
   "outputs": [],
   "source": [
    "#populate missing values at micro (building) level with macro (district) coordinates"
   ]
  },
  {
   "cell_type": "code",
   "execution_count": 8,
   "metadata": {},
   "outputs": [],
   "source": [
    "#missing building latitude\n",
    "data2['building_latitude'] = data2.apply(\n",
    "    lambda row: row['district_latitude'] if np.isnan(row['building_latitude']) else row['building_latitude'],\n",
    "    axis=1)\n",
    "#missing building longitude\n",
    "data2['building_longitude'] = data2.apply(\n",
    "    lambda row: row['district_longitude'] if np.isnan(row['building_longitude']) else row['building_longitude'],\n",
    "    axis=1)"
   ]
  },
  {
   "cell_type": "code",
   "execution_count": 9,
   "metadata": {},
   "outputs": [
    {
     "data": {
      "text/html": [
       "<div>\n",
       "<style scoped>\n",
       "    .dataframe tbody tr th:only-of-type {\n",
       "        vertical-align: middle;\n",
       "    }\n",
       "\n",
       "    .dataframe tbody tr th {\n",
       "        vertical-align: top;\n",
       "    }\n",
       "\n",
       "    .dataframe thead th {\n",
       "        text-align: right;\n",
       "    }\n",
       "</style>\n",
       "<table border=\"1\" class=\"dataframe\">\n",
       "  <thead>\n",
       "    <tr style=\"text-align: right;\">\n",
       "      <th></th>\n",
       "      <th>District</th>\n",
       "      <th>Building name</th>\n",
       "      <th>Last date of residence of the case(s)</th>\n",
       "      <th>Related probable/confirmed cases</th>\n",
       "      <th>district_latitude</th>\n",
       "      <th>district_longitude</th>\n",
       "      <th>building_latitude</th>\n",
       "      <th>building_longitude</th>\n",
       "    </tr>\n",
       "  </thead>\n",
       "  <tbody>\n",
       "    <tr>\n",
       "      <th>0</th>\n",
       "      <td>Eastern</td>\n",
       "      <td>Block 7, Fullview Garden</td>\n",
       "      <td>NaN</td>\n",
       "      <td>11449</td>\n",
       "      <td>22.273078</td>\n",
       "      <td>114.233594</td>\n",
       "      <td>22.263548</td>\n",
       "      <td>114.251822</td>\n",
       "    </tr>\n",
       "    <tr>\n",
       "      <th>1</th>\n",
       "      <td>Eastern</td>\n",
       "      <td>Continental Mansion</td>\n",
       "      <td>NaN</td>\n",
       "      <td>11477</td>\n",
       "      <td>22.273078</td>\n",
       "      <td>114.233594</td>\n",
       "      <td>22.289805</td>\n",
       "      <td>114.195564</td>\n",
       "    </tr>\n",
       "    <tr>\n",
       "      <th>2</th>\n",
       "      <td>Eastern</td>\n",
       "      <td>Ramada Hong Kong Grand View</td>\n",
       "      <td>NaN</td>\n",
       "      <td>11480</td>\n",
       "      <td>22.273078</td>\n",
       "      <td>114.233594</td>\n",
       "      <td>22.273078</td>\n",
       "      <td>114.233594</td>\n",
       "    </tr>\n",
       "    <tr>\n",
       "      <th>3</th>\n",
       "      <td>Eastern</td>\n",
       "      <td>Continental Mansion</td>\n",
       "      <td>NaN</td>\n",
       "      <td>11491</td>\n",
       "      <td>22.273078</td>\n",
       "      <td>114.233594</td>\n",
       "      <td>22.289805</td>\n",
       "      <td>114.195564</td>\n",
       "    </tr>\n",
       "    <tr>\n",
       "      <th>4</th>\n",
       "      <td>Eastern</td>\n",
       "      <td>Ramada Hong Kong Grand View</td>\n",
       "      <td>NaN</td>\n",
       "      <td>11506</td>\n",
       "      <td>22.273078</td>\n",
       "      <td>114.233594</td>\n",
       "      <td>22.273078</td>\n",
       "      <td>114.233594</td>\n",
       "    </tr>\n",
       "  </tbody>\n",
       "</table>\n",
       "</div>"
      ],
      "text/plain": [
       "  District                Building name Last date of residence of the case(s)  \\\n",
       "0  Eastern     Block 7, Fullview Garden                                   NaN   \n",
       "1  Eastern          Continental Mansion                                   NaN   \n",
       "2  Eastern  Ramada Hong Kong Grand View                                   NaN   \n",
       "3  Eastern          Continental Mansion                                   NaN   \n",
       "4  Eastern  Ramada Hong Kong Grand View                                   NaN   \n",
       "\n",
       "  Related probable/confirmed cases  district_latitude  district_longitude  \\\n",
       "0                            11449          22.273078          114.233594   \n",
       "1                            11477          22.273078          114.233594   \n",
       "2                            11480          22.273078          114.233594   \n",
       "3                            11491          22.273078          114.233594   \n",
       "4                            11506          22.273078          114.233594   \n",
       "\n",
       "   building_latitude  building_longitude  \n",
       "0          22.263548          114.251822  \n",
       "1          22.289805          114.195564  \n",
       "2          22.273078          114.233594  \n",
       "3          22.289805          114.195564  \n",
       "4          22.273078          114.233594  "
      ]
     },
     "execution_count": 9,
     "metadata": {},
     "output_type": "execute_result"
    }
   ],
   "source": [
    "data2.head()"
   ]
  },
  {
   "cell_type": "code",
   "execution_count": null,
   "metadata": {},
   "outputs": [],
   "source": [
    "# code to take HK Gov Covid-19 and convert to hexagon tiles aggregated by latitude \n",
    "# and longitude and plot on a HK map"
   ]
  },
  {
   "cell_type": "code",
   "execution_count": 10,
   "metadata": {},
   "outputs": [],
   "source": [
    "# Code to aggregate district latitude and longitude values and assign geometry shape \n",
    "# of polygon based on coordinates\n",
    "\n",
    "def counts_by_hexagon_district(df, resolution):\n",
    "    \"\"\"\n",
    "    Use h3.geo_to_h3 to index each data point into the spatial index of the specified resolution.\n",
    "    Use h3.h3_to_geo_boundary to obtain the geometries of these hexagons\n",
    "    \n",
    "    Ex counts_by_hexagon(data, 9)\n",
    "    \"\"\"\n",
    "    df = df[[\"district_latitude\", \"district_longitude\"]]\n",
    "    \n",
    "    df[\"hex_id\"] = df.apply(lambda row: h3.geo_to_h3(row[\"district_latitude\"], row[\"district_longitude\"], resolution), axis = 1)\n",
    "    \n",
    "    df_aggreg = df.groupby(by = \"hex_id\").size().reset_index()\n",
    "    df_aggreg.columns = [\"hex_id\", \"value\"]\n",
    "    \n",
    "    df_aggreg[\"geometry\"] =  df_aggreg.hex_id.apply(lambda x: \n",
    "                                                           {    \"type\" : \"Polygon\",\n",
    "                                                                 \"coordinates\": \n",
    "                                                                [h3.h3_to_geo_boundary(h=x,geo_json=True)]\n",
    "                                                            }\n",
    "                                                        )\n",
    "    \n",
    "    return df_aggreg\n",
    "\n",
    "# Code to aggregate building name latitude and longitude values and assign geometry shape \n",
    "# of polygon based on coordinates\n",
    "\n",
    "def counts_by_hexagon_building(df, resolution):\n",
    "    \"\"\"\n",
    "    Use h3.geo_to_h3 to index each data point into the spatial index of the specified resolution.\n",
    "    Use h3.h3_to_geo_boundary to obtain the geometries of these hexagons\n",
    "    \n",
    "    Ex counts_by_hexagon(data, 9)\n",
    "    \"\"\"\n",
    "    df = df[[\"building_latitude\", \"building_longitude\"]]\n",
    "    \n",
    "    df[\"hex_id\"] = df.apply(lambda row: h3.geo_to_h3(row[\"building_latitude\"], row[\"building_longitude\"], resolution), axis = 1)\n",
    "    \n",
    "    df_aggreg = df.groupby(by = \"hex_id\").size().reset_index()\n",
    "    df_aggreg.columns = [\"hex_id\", \"value\"]\n",
    "    \n",
    "    df_aggreg[\"geometry\"] =  df_aggreg.hex_id.apply(lambda x: \n",
    "                                                           {    \"type\" : \"Polygon\",\n",
    "                                                                 \"coordinates\": \n",
    "                                                                [h3.h3_to_geo_boundary(h=x,geo_json=True)]\n",
    "                                                            }\n",
    "                                                        )\n",
    "    \n",
    "    return df_aggreg\n",
    "\n",
    "\n",
    "# Code to create json file with Feature inputs based on values and geometry to be\n",
    "# input in GeoJson for plotting on HK map\n",
    "\n",
    "def hexagons_dataframe_to_geojson(df_hex, file_output = None):\n",
    "    \"\"\"\n",
    "    Produce the GeoJSON for a dataframe that has a geometry column in geojson \n",
    "    format already, along with the columns hex_id and value\n",
    "    \n",
    "    Ex counts_by_hexagon(data)\n",
    "    \"\"\"    \n",
    "    list_features = []\n",
    "    \n",
    "    for i,row in df_hex.iterrows():\n",
    "        feature = Feature(geometry = row[\"geometry\"] , id=row[\"hex_id\"], properties = {\"value\" : row[\"value\"]})\n",
    "        list_features.append(feature)\n",
    "        \n",
    "    feat_collection = FeatureCollection(list_features)\n",
    "    \n",
    "    geojson_result = json.dumps(feat_collection)\n",
    "    \n",
    "    #optionally write to file\n",
    "    if file_output is not None:\n",
    "        with open(file_output,\"w\") as f:\n",
    "            json.dump(feat_collection,f)\n",
    "    \n",
    "    return geojson_result\n",
    "\n",
    "# Function to plot cases as polygons on HK map\n",
    "\n",
    "def choropleth_map(df_aggreg, border_color = 'black', fill_opacity = 0.7, initial_map = None, with_legend = False,\n",
    "                   kind = \"linear\"):\n",
    "    \n",
    "    \"\"\"\n",
    "    Creates choropleth maps given the aggregated data.\n",
    "    \"\"\"    \n",
    "    #colormap\n",
    "    min_value = df_aggreg[\"value\"].min()\n",
    "    max_value = df_aggreg[\"value\"].max()\n",
    "    m = round((min_value + max_value ) / 2 , 0)\n",
    "    \n",
    "    #take resolution from the first row\n",
    "    res = h3.h3_get_resolution(df_aggreg.loc[0,'hex_id'])\n",
    "    \n",
    "    if initial_map is None:\n",
    "        initial_map = folium.Map(location= [22.280887, 114.157500], zoom_start=12, tiles=\"cartodbpositron\", \n",
    "                attr= '© <a href=\"http://www.openstreetmap.org/copyright\">OpenStreetMap</a> contributors © <a href=\"http://cartodb.com/attributions#basemaps\">CartoDB</a>' \n",
    "            )\n",
    "        \n",
    "\n",
    "    #the colormap \n",
    "    #color names accepted https://github.com/python-visualization/branca/blob/master/branca/_cnames.json\n",
    "    if kind == \"linear\":\n",
    "        custom_cm = cm.LinearColormap(['pink','mediumvioletred','red'], vmin=min_value, vmax=max_value)\n",
    "    elif kind == \"filled_nulls\":\n",
    "        custom_cm = cm.LinearColormap(['white'], \n",
    "                                      index=[0,min_value,m,max_value],vmin=min_value,vmax=max_value)\n",
    "   \n",
    "\n",
    "    #create geojson data from dataframe\n",
    "    geojson_data = hexagons_dataframe_to_geojson(df_hex = df_aggreg)\n",
    "    \n",
    "    #plot on map\n",
    "    name_layer = \"Choropleth \" + str(res)\n",
    "    if kind != \"linear\":\n",
    "        name_layer = name_layer + kind\n",
    "        \n",
    "    GeoJson(\n",
    "        geojson_data,\n",
    "        style_function=lambda feature: {\n",
    "            'fillColor': custom_cm(feature['properties']['value']),\n",
    "            'color': border_color,\n",
    "            'weight': 1,\n",
    "            'fillOpacity': fill_opacity \n",
    "        }, \n",
    "        name = name_layer\n",
    "    ).add_to(initial_map)\n",
    "    #add legend (not recommended if multiple layers)\n",
    "    if with_legend == True:\n",
    "        custom_cm.add_to(initial_map)\n",
    "        \n",
    "    \n",
    "    return initial_map"
   ]
  },
  {
   "cell_type": "code",
   "execution_count": null,
   "metadata": {},
   "outputs": [],
   "source": [
    "# pass our HK Gov Covid-19 dataset into aggregation function\n",
    "# View at District Level"
   ]
  },
  {
   "cell_type": "code",
   "execution_count": 11,
   "metadata": {},
   "outputs": [
    {
     "name": "stderr",
     "output_type": "stream",
     "text": [
      "<ipython-input-10-a7a53ee5aef4>:13: SettingWithCopyWarning: \n",
      "A value is trying to be set on a copy of a slice from a DataFrame.\n",
      "Try using .loc[row_indexer,col_indexer] = value instead\n",
      "\n",
      "See the caveats in the documentation: https://pandas.pydata.org/pandas-docs/stable/user_guide/indexing.html#returning-a-view-versus-a-copy\n",
      "  df[\"hex_id\"] = df.apply(lambda row: h3.geo_to_h3(row[\"district_latitude\"], row[\"district_longitude\"], resolution), axis = 1)\n"
     ]
    }
   ],
   "source": [
    "df_aggreg = counts_by_hexagon_district(df = data2, resolution = 7)\n",
    "df_aggreg.sort_values(by = \"value\", ascending = False, inplace = True)"
   ]
  },
  {
   "cell_type": "code",
   "execution_count": 12,
   "metadata": {},
   "outputs": [
    {
     "data": {
      "text/html": [
       "<div style=\"width:100%;\"><div style=\"position:relative;width:100%;height:0;padding-bottom:60%;\"><span style=\"color:#565656\">Make this Notebook Trusted to load map: File -> Trust Notebook</span><iframe src=\"about:blank\" style=\"position:absolute;width:100%;height:100%;left:0;top:0;border:none !important;\" data-html=%3C%21DOCTYPE%20html%3E%0A%3Chead%3E%20%20%20%20%0A%20%20%20%20%3Cmeta%20http-equiv%3D%22content-type%22%20content%3D%22text/html%3B%20charset%3DUTF-8%22%20/%3E%0A%20%20%20%20%0A%20%20%20%20%20%20%20%20%3Cscript%3E%0A%20%20%20%20%20%20%20%20%20%20%20%20L_NO_TOUCH%20%3D%20false%3B%0A%20%20%20%20%20%20%20%20%20%20%20%20L_DISABLE_3D%20%3D%20false%3B%0A%20%20%20%20%20%20%20%20%3C/script%3E%0A%20%20%20%20%0A%20%20%20%20%3Cstyle%3Ehtml%2C%20body%20%7Bwidth%3A%20100%25%3Bheight%3A%20100%25%3Bmargin%3A%200%3Bpadding%3A%200%3B%7D%3C/style%3E%0A%20%20%20%20%3Cstyle%3E%23map%20%7Bposition%3Aabsolute%3Btop%3A0%3Bbottom%3A0%3Bright%3A0%3Bleft%3A0%3B%7D%3C/style%3E%0A%20%20%20%20%3Cscript%20src%3D%22https%3A//cdn.jsdelivr.net/npm/leaflet%401.6.0/dist/leaflet.js%22%3E%3C/script%3E%0A%20%20%20%20%3Cscript%20src%3D%22https%3A//code.jquery.com/jquery-1.12.4.min.js%22%3E%3C/script%3E%0A%20%20%20%20%3Cscript%20src%3D%22https%3A//maxcdn.bootstrapcdn.com/bootstrap/3.2.0/js/bootstrap.min.js%22%3E%3C/script%3E%0A%20%20%20%20%3Cscript%20src%3D%22https%3A//cdnjs.cloudflare.com/ajax/libs/Leaflet.awesome-markers/2.0.2/leaflet.awesome-markers.js%22%3E%3C/script%3E%0A%20%20%20%20%3Clink%20rel%3D%22stylesheet%22%20href%3D%22https%3A//cdn.jsdelivr.net/npm/leaflet%401.6.0/dist/leaflet.css%22/%3E%0A%20%20%20%20%3Clink%20rel%3D%22stylesheet%22%20href%3D%22https%3A//maxcdn.bootstrapcdn.com/bootstrap/3.2.0/css/bootstrap.min.css%22/%3E%0A%20%20%20%20%3Clink%20rel%3D%22stylesheet%22%20href%3D%22https%3A//maxcdn.bootstrapcdn.com/bootstrap/3.2.0/css/bootstrap-theme.min.css%22/%3E%0A%20%20%20%20%3Clink%20rel%3D%22stylesheet%22%20href%3D%22https%3A//maxcdn.bootstrapcdn.com/font-awesome/4.6.3/css/font-awesome.min.css%22/%3E%0A%20%20%20%20%3Clink%20rel%3D%22stylesheet%22%20href%3D%22https%3A//cdnjs.cloudflare.com/ajax/libs/Leaflet.awesome-markers/2.0.2/leaflet.awesome-markers.css%22/%3E%0A%20%20%20%20%3Clink%20rel%3D%22stylesheet%22%20href%3D%22https%3A//cdn.jsdelivr.net/gh/python-visualization/folium/folium/templates/leaflet.awesome.rotate.min.css%22/%3E%0A%20%20%20%20%0A%20%20%20%20%20%20%20%20%20%20%20%20%3Cmeta%20name%3D%22viewport%22%20content%3D%22width%3Ddevice-width%2C%0A%20%20%20%20%20%20%20%20%20%20%20%20%20%20%20%20initial-scale%3D1.0%2C%20maximum-scale%3D1.0%2C%20user-scalable%3Dno%22%20/%3E%0A%20%20%20%20%20%20%20%20%20%20%20%20%3Cstyle%3E%0A%20%20%20%20%20%20%20%20%20%20%20%20%20%20%20%20%23map_e170d6f913be4d8492ac3bcd1be3b972%20%7B%0A%20%20%20%20%20%20%20%20%20%20%20%20%20%20%20%20%20%20%20%20position%3A%20relative%3B%0A%20%20%20%20%20%20%20%20%20%20%20%20%20%20%20%20%20%20%20%20width%3A%20100.0%25%3B%0A%20%20%20%20%20%20%20%20%20%20%20%20%20%20%20%20%20%20%20%20height%3A%20100.0%25%3B%0A%20%20%20%20%20%20%20%20%20%20%20%20%20%20%20%20%20%20%20%20left%3A%200.0%25%3B%0A%20%20%20%20%20%20%20%20%20%20%20%20%20%20%20%20%20%20%20%20top%3A%200.0%25%3B%0A%20%20%20%20%20%20%20%20%20%20%20%20%20%20%20%20%7D%0A%20%20%20%20%20%20%20%20%20%20%20%20%3C/style%3E%0A%20%20%20%20%20%20%20%20%0A%20%20%20%20%3Cscript%20src%3D%22https%3A//cdnjs.cloudflare.com/ajax/libs/d3/3.5.5/d3.min.js%22%3E%3C/script%3E%0A%3C/head%3E%0A%3Cbody%3E%20%20%20%20%0A%20%20%20%20%0A%20%20%20%20%20%20%20%20%20%20%20%20%3Cdiv%20class%3D%22folium-map%22%20id%3D%22map_e170d6f913be4d8492ac3bcd1be3b972%22%20%3E%3C/div%3E%0A%20%20%20%20%20%20%20%20%0A%3C/body%3E%0A%3Cscript%3E%20%20%20%20%0A%20%20%20%20%0A%20%20%20%20%20%20%20%20%20%20%20%20var%20map_e170d6f913be4d8492ac3bcd1be3b972%20%3D%20L.map%28%0A%20%20%20%20%20%20%20%20%20%20%20%20%20%20%20%20%22map_e170d6f913be4d8492ac3bcd1be3b972%22%2C%0A%20%20%20%20%20%20%20%20%20%20%20%20%20%20%20%20%7B%0A%20%20%20%20%20%20%20%20%20%20%20%20%20%20%20%20%20%20%20%20center%3A%20%5B22.280887%2C%20114.1575%5D%2C%0A%20%20%20%20%20%20%20%20%20%20%20%20%20%20%20%20%20%20%20%20crs%3A%20L.CRS.EPSG3857%2C%0A%20%20%20%20%20%20%20%20%20%20%20%20%20%20%20%20%20%20%20%20zoom%3A%2012%2C%0A%20%20%20%20%20%20%20%20%20%20%20%20%20%20%20%20%20%20%20%20zoomControl%3A%20true%2C%0A%20%20%20%20%20%20%20%20%20%20%20%20%20%20%20%20%20%20%20%20preferCanvas%3A%20false%2C%0A%20%20%20%20%20%20%20%20%20%20%20%20%20%20%20%20%7D%0A%20%20%20%20%20%20%20%20%20%20%20%20%29%3B%0A%0A%20%20%20%20%20%20%20%20%20%20%20%20%0A%0A%20%20%20%20%20%20%20%20%0A%20%20%20%20%0A%20%20%20%20%20%20%20%20%20%20%20%20var%20tile_layer_8121d20749f848e28a1b45fce30dcf92%20%3D%20L.tileLayer%28%0A%20%20%20%20%20%20%20%20%20%20%20%20%20%20%20%20%22https%3A//cartodb-basemaps-%7Bs%7D.global.ssl.fastly.net/light_all/%7Bz%7D/%7Bx%7D/%7By%7D.png%22%2C%0A%20%20%20%20%20%20%20%20%20%20%20%20%20%20%20%20%7B%22attribution%22%3A%20%22%5Cu0026copy%3B%20%5Cu003ca%20href%3D%5C%22http%3A//www.openstreetmap.org/copyright%5C%22%5Cu003eOpenStreetMap%5Cu003c/a%5Cu003e%20contributors%20%5Cu0026copy%3B%20%5Cu003ca%20href%3D%5C%22http%3A//cartodb.com/attributions%5C%22%5Cu003eCartoDB%5Cu003c/a%5Cu003e%2C%20CartoDB%20%5Cu003ca%20href%20%3D%5C%22http%3A//cartodb.com/attributions%5C%22%5Cu003eattributions%5Cu003c/a%5Cu003e%22%2C%20%22detectRetina%22%3A%20false%2C%20%22maxNativeZoom%22%3A%2018%2C%20%22maxZoom%22%3A%2018%2C%20%22minZoom%22%3A%200%2C%20%22noWrap%22%3A%20false%2C%20%22opacity%22%3A%201%2C%20%22subdomains%22%3A%20%22abc%22%2C%20%22tms%22%3A%20false%7D%0A%20%20%20%20%20%20%20%20%20%20%20%20%29.addTo%28map_e170d6f913be4d8492ac3bcd1be3b972%29%3B%0A%20%20%20%20%20%20%20%20%0A%20%20%20%20%0A%20%20%20%20%20%20%20%20function%20geo_json_2e41831eab4a4849be35d56c01a1cfbc_styler%28feature%29%20%7B%0A%20%20%20%20%20%20%20%20%20%20%20%20switch%28feature.id%29%20%7B%0A%20%20%20%20%20%20%20%20%20%20%20%20%20%20%20%20case%20%2287411ca21ffffff%22%3A%20case%20%2287411cb34ffffff%22%3A%20%0A%20%20%20%20%20%20%20%20%20%20%20%20%20%20%20%20%20%20%20%20return%20%7B%22color%22%3A%20%22black%22%2C%20%22fillColor%22%3A%20%22%23ff0000ff%22%2C%20%22fillOpacity%22%3A%200.7%2C%20%22weight%22%3A%201%7D%3B%0A%20%20%20%20%20%20%20%20%20%20%20%20%20%20%20%20case%20%2287410349bffffff%22%3A%20%0A%20%20%20%20%20%20%20%20%20%20%20%20%20%20%20%20%20%20%20%20return%20%7B%22color%22%3A%20%22black%22%2C%20%22fillColor%22%3A%20%22%23f50318ff%22%2C%20%22fillOpacity%22%3A%200.7%2C%20%22weight%22%3A%201%7D%3B%0A%20%20%20%20%20%20%20%20%20%20%20%20%20%20%20%20case%20%22874103492ffffff%22%3A%20%0A%20%20%20%20%20%20%20%20%20%20%20%20%20%20%20%20%20%20%20%20return%20%7B%22color%22%3A%20%22black%22%2C%20%22fillColor%22%3A%20%22%23e6093cff%22%2C%20%22fillOpacity%22%3A%200.7%2C%20%22weight%22%3A%201%7D%3B%0A%20%20%20%20%20%20%20%20%20%20%20%20%20%20%20%20case%20%2287411c86effffff%22%3A%20%0A%20%20%20%20%20%20%20%20%20%20%20%20%20%20%20%20%20%20%20%20return%20%7B%22color%22%3A%20%22black%22%2C%20%22fillColor%22%3A%20%22%23cc1379ff%22%2C%20%22fillOpacity%22%3A%200.7%2C%20%22weight%22%3A%201%7D%3B%0A%20%20%20%20%20%20%20%20%20%20%20%20%20%20%20%20case%20%2287411c86bffffff%22%3A%20case%20%2287411ca30ffffff%22%3A%20%0A%20%20%20%20%20%20%20%20%20%20%20%20%20%20%20%20%20%20%20%20return%20%7B%22color%22%3A%20%22black%22%2C%20%22fillColor%22%3A%20%22%23dc539fff%22%2C%20%22fillOpacity%22%3A%200.7%2C%20%22weight%22%3A%201%7D%3B%0A%20%20%20%20%20%20%20%20%20%20%20%20%20%20%20%20case%20%228741034d9ffffff%22%3A%20%0A%20%20%20%20%20%20%20%20%20%20%20%20%20%20%20%20%20%20%20%20return%20%7B%22color%22%3A%20%22black%22%2C%20%22fillColor%22%3A%20%22%23e672abff%22%2C%20%22fillOpacity%22%3A%200.7%2C%20%22weight%22%3A%201%7D%3B%0A%20%20%20%20%20%20%20%20%20%20%20%20%20%20%20%20case%20%2287411c855ffffff%22%3A%20case%20%2287411cb10ffffff%22%3A%20%0A%20%20%20%20%20%20%20%20%20%20%20%20%20%20%20%20%20%20%20%20return%20%7B%22color%22%3A%20%22black%22%2C%20%22fillColor%22%3A%20%22%23f5a1bfff%22%2C%20%22fillOpacity%22%3A%200.7%2C%20%22weight%22%3A%201%7D%3B%0A%20%20%20%20%20%20%20%20%20%20%20%20%20%20%20%20default%3A%0A%20%20%20%20%20%20%20%20%20%20%20%20%20%20%20%20%20%20%20%20return%20%7B%22color%22%3A%20%22black%22%2C%20%22fillColor%22%3A%20%22%23ffc0cbff%22%2C%20%22fillOpacity%22%3A%200.7%2C%20%22weight%22%3A%201%7D%3B%0A%20%20%20%20%20%20%20%20%20%20%20%20%7D%0A%20%20%20%20%20%20%20%20%7D%0A%0A%20%20%20%20%20%20%20%20function%20geo_json_2e41831eab4a4849be35d56c01a1cfbc_onEachFeature%28feature%2C%20layer%29%20%7B%0A%20%20%20%20%20%20%20%20%20%20%20%20layer.on%28%7B%0A%20%20%20%20%20%20%20%20%20%20%20%20%7D%29%3B%0A%20%20%20%20%20%20%20%20%7D%3B%0A%20%20%20%20%20%20%20%20var%20geo_json_2e41831eab4a4849be35d56c01a1cfbc%20%3D%20L.geoJson%28null%2C%20%7B%0A%20%20%20%20%20%20%20%20%20%20%20%20%20%20%20%20onEachFeature%3A%20geo_json_2e41831eab4a4849be35d56c01a1cfbc_onEachFeature%2C%0A%20%20%20%20%20%20%20%20%20%20%20%20%0A%20%20%20%20%20%20%20%20%20%20%20%20%20%20%20%20style%3A%20geo_json_2e41831eab4a4849be35d56c01a1cfbc_styler%2C%0A%20%20%20%20%20%20%20%20%7D%29%3B%0A%0A%20%20%20%20%20%20%20%20function%20geo_json_2e41831eab4a4849be35d56c01a1cfbc_add%20%28data%29%20%7B%0A%20%20%20%20%20%20%20%20%20%20%20%20geo_json_2e41831eab4a4849be35d56c01a1cfbc%0A%20%20%20%20%20%20%20%20%20%20%20%20%20%20%20%20.addData%28data%29%0A%20%20%20%20%20%20%20%20%20%20%20%20%20%20%20%20.addTo%28map_e170d6f913be4d8492ac3bcd1be3b972%29%3B%0A%20%20%20%20%20%20%20%20%7D%0A%20%20%20%20%20%20%20%20%20%20%20%20geo_json_2e41831eab4a4849be35d56c01a1cfbc_add%28%7B%22features%22%3A%20%5B%7B%22geometry%22%3A%20%7B%22coordinates%22%3A%20%5B%5B%5B113.989221%2C%2022.386409%5D%2C%20%5B113.986518%2C%2022.399012%5D%2C%20%5B113.973809%2C%2022.403784%5D%2C%20%5B113.963803%2C%2022.395952%5D%2C%20%5B113.966508%2C%2022.383347%5D%2C%20%5B113.979217%2C%2022.378577%5D%2C%20%5B113.989221%2C%2022.386409%5D%5D%5D%2C%20%22type%22%3A%20%22Polygon%22%7D%2C%20%22id%22%3A%20%2287411ca21ffffff%22%2C%20%22properties%22%3A%20%7B%22value%22%3A%2023%7D%2C%20%22type%22%3A%20%22Feature%22%7D%2C%20%7B%22geometry%22%3A%20%7B%22coordinates%22%3A%20%5B%5B%5B114.172292%2C%2022.294355%5D%2C%20%5B114.169603%2C%2022.306956%5D%2C%20%5B114.156925%2C%2022.311734%5D%2C%20%5B114.146937%2C%2022.303911%5D%2C%20%5B114.149628%2C%2022.291308%5D%2C%20%5B114.162306%2C%2022.286531%5D%2C%20%5B114.172292%2C%2022.294355%5D%5D%5D%2C%20%22type%22%3A%20%22Polygon%22%7D%2C%20%22id%22%3A%20%2287411cb34ffffff%22%2C%20%22properties%22%3A%20%7B%22value%22%3A%2023%7D%2C%20%22type%22%3A%20%22Feature%22%7D%2C%20%7B%22geometry%22%3A%20%7B%22coordinates%22%3A%20%5B%5B%5B114.164996%2C%2022.273928%5D%2C%20%5B114.162306%2C%2022.286531%5D%2C%20%5B114.149628%2C%2022.291308%5D%2C%20%5B114.13964%2C%2022.283481%5D%2C%20%5B114.142331%2C%2022.270877%5D%2C%20%5B114.155009%2C%2022.266101%5D%2C%20%5B114.164996%2C%2022.273928%5D%5D%5D%2C%20%22type%22%3A%20%22Polygon%22%7D%2C%20%22id%22%3A%20%2287410349bffffff%22%2C%20%22properties%22%3A%20%7B%22value%22%3A%2021%7D%2C%20%22type%22%3A%20%22Feature%22%7D%2C%20%7B%22geometry%22%3A%20%7B%22coordinates%22%3A%20%5B%5B%5B114.248307%2C%2022.265676%5D%2C%20%5B114.245623%2C%2022.278275%5D%2C%20%5B114.232959%2C%2022.283056%5D%2C%20%5B114.222977%2C%2022.275237%5D%2C%20%5B114.225663%2C%2022.262636%5D%2C%20%5B114.238328%2C%2022.257856%5D%2C%20%5B114.248307%2C%2022.265676%5D%5D%5D%2C%20%22type%22%3A%20%22Polygon%22%7D%2C%20%22id%22%3A%20%22874103492ffffff%22%2C%20%22properties%22%3A%20%7B%22value%22%3A%2018%7D%2C%20%22type%22%3A%20%22Feature%22%7D%2C%20%7B%22geometry%22%3A%20%7B%22coordinates%22%3A%20%5B%5B%5B114.240255%2C%2022.303472%5D%2C%20%5B114.23757%2C%2022.316068%5D%2C%20%5B114.224903%2C%2022.320851%5D%2C%20%5B114.214919%2C%2022.313035%5D%2C%20%5B114.217606%2C%2022.300437%5D%2C%20%5B114.230274%2C%2022.295655%5D%2C%20%5B114.240255%2C%2022.303472%5D%5D%5D%2C%20%22type%22%3A%20%22Polygon%22%7D%2C%20%22id%22%3A%20%2287411c86effffff%22%2C%20%22properties%22%3A%20%7B%22value%22%3A%2013%7D%2C%20%22type%22%3A%20%22Feature%22%7D%2C%20%7B%22geometry%22%3A%20%7B%22coordinates%22%3A%20%5B%5B%5B114.202248%2C%2022.317816%5D%2C%20%5B114.199561%2C%2022.330414%5D%2C%20%5B114.186887%2C%2022.335194%5D%2C%20%5B114.1769%2C%2022.327376%5D%2C%20%5B114.179589%2C%2022.314777%5D%2C%20%5B114.192264%2C%2022.309997%5D%2C%20%5B114.202248%2C%2022.317816%5D%5D%5D%2C%20%22type%22%3A%20%22Polygon%22%7D%2C%20%22id%22%3A%20%2287411c86bffffff%22%2C%20%22properties%22%3A%20%7B%22value%22%3A%208%7D%2C%20%22type%22%3A%20%22Feature%22%7D%2C%20%7B%22geometry%22%3A%20%7B%22coordinates%22%3A%20%5B%5B%5B114.049234%2C%2022.433366%5D%2C%20%5B114.046534%2C%2022.445962%5D%2C%20%5B114.033832%2C%2022.450738%5D%2C%20%5B114.023829%2C%2022.442917%5D%2C%20%5B114.026531%2C%2022.43032%5D%2C%20%5B114.039233%2C%2022.425545%5D%2C%20%5B114.049234%2C%2022.433366%5D%5D%5D%2C%20%22type%22%3A%20%22Polygon%22%7D%2C%20%22id%22%3A%20%2287411ca30ffffff%22%2C%20%22properties%22%3A%20%7B%22value%22%3A%208%7D%2C%20%22type%22%3A%20%22Feature%22%7D%2C%20%7B%22geometry%22%3A%20%7B%22coordinates%22%3A%20%5B%5B%5B113.998946%2C%2022.232029%5D%2C%20%5B113.996245%2C%2022.244644%5D%2C%20%5B113.983544%2C%2022.249411%5D%2C%20%5B113.973544%2C%2022.241563%5D%2C%20%5B113.976248%2C%2022.228947%5D%2C%20%5B113.988948%2C%2022.22418%5D%2C%20%5B113.998946%2C%2022.232029%5D%5D%5D%2C%20%22type%22%3A%20%22Polygon%22%7D%2C%20%22id%22%3A%20%228741034d9ffffff%22%2C%20%22properties%22%3A%20%7B%22value%22%3A%206%7D%2C%20%22type%22%3A%20%22Feature%22%7D%2C%20%7B%22geometry%22%3A%20%7B%22coordinates%22%3A%20%5B%5B%5B114.284791%2C%2022.367706%5D%2C%20%5B114.282109%2C%2022.380295%5D%2C%20%5B114.269445%2C%2022.385082%5D%2C%20%5B114.259463%2C%2022.377278%5D%2C%20%5B114.262147%2C%2022.364687%5D%2C%20%5B114.274811%2C%2022.359901%5D%2C%20%5B114.284791%2C%2022.367706%5D%5D%5D%2C%20%22type%22%3A%20%22Polygon%22%7D%2C%20%22id%22%3A%20%2287411c855ffffff%22%2C%20%22properties%22%3A%20%7B%22value%22%3A%203%7D%2C%20%22type%22%3A%20%22Feature%22%7D%2C%20%7B%22geometry%22%3A%20%7B%22coordinates%22%3A%20%5B%5B%5B114.133477%2C%2022.36691%5D%2C%20%5B114.130784%2C%2022.379507%5D%2C%20%5B114.118097%2C%2022.384286%5D%2C%20%5B114.108103%2C%2022.376466%5D%2C%20%5B114.110798%2C%2022.363867%5D%2C%20%5B114.123485%2C%2022.35909%5D%2C%20%5B114.133477%2C%2022.36691%5D%5D%5D%2C%20%22type%22%3A%20%22Polygon%22%7D%2C%20%22id%22%3A%20%2287411cb10ffffff%22%2C%20%22properties%22%3A%20%7B%22value%22%3A%203%7D%2C%20%22type%22%3A%20%22Feature%22%7D%2C%20%7B%22geometry%22%3A%20%7B%22coordinates%22%3A%20%5B%5B%5B114.233717%2C%2022.224829%5D%2C%20%5B114.231033%2C%2022.237432%5D%2C%20%5B114.218367%2C%2022.242212%5D%2C%20%5B114.208386%2C%2022.234386%5D%2C%20%5B114.211072%2C%2022.221782%5D%2C%20%5B114.223738%2C%2022.217003%5D%2C%20%5B114.233717%2C%2022.224829%5D%5D%5D%2C%20%22type%22%3A%20%22Polygon%22%7D%2C%20%22id%22%3A%20%22874103495ffffff%22%2C%20%22properties%22%3A%20%7B%22value%22%3A%201%7D%2C%20%22type%22%3A%20%22Feature%22%7D%2C%20%7B%22geometry%22%3A%20%7B%22coordinates%22%3A%20%5B%5B%5B114.187655%2C%2022.276975%5D%2C%20%5B114.184967%2C%2022.289576%5D%2C%20%5B114.172292%2C%2022.294355%5D%2C%20%5B114.162306%2C%2022.286531%5D%2C%20%5B114.164996%2C%2022.273928%5D%2C%20%5B114.17767%2C%2022.26915%5D%2C%20%5B114.187655%2C%2022.276975%5D%5D%5D%2C%20%22type%22%3A%20%22Polygon%22%7D%2C%20%22id%22%3A%20%2287410349affffff%22%2C%20%22properties%22%3A%20%7B%22value%22%3A%201%7D%2C%20%22type%22%3A%20%22Feature%22%7D%2C%20%7B%22geometry%22%3A%20%7B%22coordinates%22%3A%20%5B%5B%5B114.11888%2C%2022.326066%5D%2C%20%5B114.116186%2C%2022.338668%5D%2C%20%5B114.103499%2C%2022.343444%5D%2C%20%5B114.093506%2C%2022.335618%5D%2C%20%5B114.096201%2C%2022.323016%5D%2C%20%5B114.108888%2C%2022.31824%5D%2C%20%5B114.11888%2C%2022.326066%5D%5D%5D%2C%20%22type%22%3A%20%22Polygon%22%7D%2C%20%22id%22%3A%20%2287411cb06ffffff%22%2C%20%22properties%22%3A%20%7B%22value%22%3A%201%7D%2C%20%22type%22%3A%20%22Feature%22%7D%5D%2C%20%22type%22%3A%20%22FeatureCollection%22%7D%29%3B%0A%0A%20%20%20%20%20%20%20%20%0A%20%20%20%20%0A%20%20%20%20var%20color_map_423c8238a268475a83be039fd3827a00%20%3D%20%7B%7D%3B%0A%0A%20%20%20%20%0A%20%20%20%20color_map_423c8238a268475a83be039fd3827a00.color%20%3D%20d3.scale.threshold%28%29%0A%20%20%20%20%20%20%20%20%20%20%20%20%20%20.domain%28%5B1.0%2C%201.0440881763527055%2C%201.088176352705411%2C%201.1322645290581161%2C%201.1763527054108216%2C%201.220440881763527%2C%201.2645290581162325%2C%201.308617234468938%2C%201.3527054108216432%2C%201.3967935871743486%2C%201.440881763527054%2C%201.4849699398797596%2C%201.529058116232465%2C%201.5731462925851702%2C%201.6172344689378757%2C%201.6613226452905812%2C%201.7054108216432866%2C%201.749498997995992%2C%201.7935871743486973%2C%201.8376753507014028%2C%201.8817635270541082%2C%201.9258517034068137%2C%201.9699398797595191%2C%202.0140280561122244%2C%202.05811623246493%2C%202.1022044088176353%2C%202.1462925851703405%2C%202.190380761523046%2C%202.2344689378757514%2C%202.278557114228457%2C%202.3226452905811623%2C%202.3667334669338675%2C%202.4108216432865732%2C%202.4549098196392785%2C%202.498997995991984%2C%202.5430861723446894%2C%202.5871743486973946%2C%202.6312625250501003%2C%202.6753507014028055%2C%202.719438877755511%2C%202.7635270541082164%2C%202.8076152304609217%2C%202.8517034068136273%2C%202.8957915831663326%2C%202.9398797595190382%2C%202.9839679358717435%2C%203.0280561122244487%2C%203.0721442885771544%2C%203.1162324649298596%2C%203.1603206412825653%2C%203.2044088176352705%2C%203.2484969939879758%2C%203.2925851703406814%2C%203.3366733466933867%2C%203.3807615230460923%2C%203.4248496993987976%2C%203.468937875751503%2C%203.5130260521042085%2C%203.5571142284569137%2C%203.6012024048096194%2C%203.6452905811623246%2C%203.68937875751503%2C%203.7334669338677355%2C%203.7775551102204408%2C%203.8216432865731464%2C%203.8657314629258517%2C%203.909819639278557%2C%203.9539078156312626%2C%203.997995991983968%2C%204.0420841683366735%2C%204.086172344689379%2C%204.130260521042084%2C%204.174348697394789%2C%204.218436873747494%2C%204.2625250501002006%2C%204.306613226452906%2C%204.350701402805611%2C%204.394789579158317%2C%204.438877755511022%2C%204.482965931863728%2C%204.527054108216433%2C%204.571142284569138%2C%204.615230460921843%2C%204.6593186372745485%2C%204.703406813627255%2C%204.74749498997996%2C%204.791583166332665%2C%204.835671342685371%2C%204.8797595190380765%2C%204.923847695390782%2C%204.967935871743487%2C%205.012024048096192%2C%205.056112224448897%2C%205.1002004008016035%2C%205.144288577154309%2C%205.188376753507014%2C%205.232464929859719%2C%205.2765531062124245%2C%205.320641282565131%2C%205.364729458917836%2C%205.408817635270541%2C%205.452905811623246%2C%205.4969939879759515%2C%205.541082164328658%2C%205.585170340681363%2C%205.629258517034068%2C%205.673346693386773%2C%205.717434869739479%2C%205.761523046092185%2C%205.80561122244489%2C%205.849699398797595%2C%205.8937875751503%2C%205.937875751503006%2C%205.981963927855712%2C%206.026052104208417%2C%206.070140280561122%2C%206.114228456913827%2C%206.158316633266533%2C%206.202404809619239%2C%206.246492985971944%2C%206.290581162324649%2C%206.3346693386773545%2C%206.37875751503006%2C%206.422845691382766%2C%206.466933867735471%2C%206.511022044088176%2C%206.5551102204408815%2C%206.599198396793587%2C%206.643286573146293%2C%206.687374749498998%2C%206.731462925851703%2C%206.775551102204409%2C%206.819639278557114%2C%206.86372745490982%2C%206.907815631262525%2C%206.95190380761523%2C%206.995991983967936%2C%207.040080160320641%2C%207.084168336673347%2C%207.128256513026052%2C%207.1723446893787575%2C%207.216432865731463%2C%207.260521042084168%2C%207.304609218436874%2C%207.348697394789579%2C%207.3927855711422845%2C%207.43687374749499%2C%207.480961923847695%2C%207.525050100200401%2C%207.569138276553106%2C%207.613226452905812%2C%207.657314629258517%2C%207.701402805611222%2C%207.745490981963928%2C%207.789579158316633%2C%207.833667334669339%2C%207.877755511022044%2C%207.921843687374749%2C%207.965931863727455%2C%208.01002004008016%2C%208.054108216432866%2C%208.098196392785571%2C%208.142284569138276%2C%208.186372745490981%2C%208.230460921843687%2C%208.274549098196392%2C%208.318637274549097%2C%208.362725450901802%2C%208.40681362725451%2C%208.450901803607215%2C%208.49498997995992%2C%208.539078156312625%2C%208.58316633266533%2C%208.627254509018037%2C%208.671342685370742%2C%208.715430861723448%2C%208.759519038076153%2C%208.803607214428858%2C%208.847695390781563%2C%208.891783567134269%2C%208.935871743486974%2C%208.97995991983968%2C%209.024048096192384%2C%209.06813627254509%2C%209.112224448897795%2C%209.156312625250502%2C%209.200400801603207%2C%209.244488977955912%2C%209.288577154308618%2C%209.332665330661323%2C%209.376753507014028%2C%209.420841683366733%2C%209.464929859719438%2C%209.509018036072144%2C%209.553106212424849%2C%209.597194388777556%2C%209.641282565130261%2C%209.685370741482966%2C%209.729458917835672%2C%209.773547094188377%2C%209.817635270541082%2C%209.861723446893787%2C%209.905811623246493%2C%209.949899799599198%2C%209.993987975951903%2C%2010.03807615230461%2C%2010.082164328657315%2C%2010.12625250501002%2C%2010.170340681362726%2C%2010.214428857715431%2C%2010.258517034068136%2C%2010.302605210420841%2C%2010.346693386773547%2C%2010.390781563126252%2C%2010.434869739478957%2C%2010.478957915831664%2C%2010.52304609218437%2C%2010.567134268537075%2C%2010.61122244488978%2C%2010.655310621242485%2C%2010.69939879759519%2C%2010.743486973947896%2C%2010.7875751503006%2C%2010.831663326653306%2C%2010.875751503006011%2C%2010.919839679358718%2C%2010.963927855711423%2C%2011.008016032064129%2C%2011.052104208416834%2C%2011.09619238476954%2C%2011.140280561122244%2C%2011.18436873747495%2C%2011.228456913827655%2C%2011.27254509018036%2C%2011.316633266533065%2C%2011.360721442885772%2C%2011.404809619238478%2C%2011.448897795591183%2C%2011.492985971943888%2C%2011.537074148296593%2C%2011.581162324649299%2C%2011.625250501002004%2C%2011.669338677354709%2C%2011.713426853707414%2C%2011.75751503006012%2C%2011.801603206412826%2C%2011.845691382765532%2C%2011.889779559118237%2C%2011.933867735470942%2C%2011.977955911823647%2C%2012.022044088176353%2C%2012.066132264529058%2C%2012.110220440881763%2C%2012.154308617234468%2C%2012.198396793587174%2C%2012.24248496993988%2C%2012.286573146292586%2C%2012.330661322645291%2C%2012.374749498997996%2C%2012.418837675350701%2C%2012.462925851703407%2C%2012.507014028056112%2C%2012.551102204408817%2C%2012.595190380761522%2C%2012.639278557114228%2C%2012.683366733466935%2C%2012.72745490981964%2C%2012.771543086172345%2C%2012.81563126252505%2C%2012.859719438877756%2C%2012.90380761523046%2C%2012.947895791583166%2C%2012.991983967935871%2C%2013.036072144288577%2C%2013.080160320641282%2C%2013.124248496993989%2C%2013.168336673346694%2C%2013.2124248496994%2C%2013.256513026052104%2C%2013.30060120240481%2C%2013.344689378757515%2C%2013.38877755511022%2C%2013.432865731462925%2C%2013.47695390781563%2C%2013.521042084168336%2C%2013.565130260521043%2C%2013.609218436873748%2C%2013.653306613226453%2C%2013.697394789579159%2C%2013.741482965931864%2C%2013.785571142284569%2C%2013.829659318637274%2C%2013.87374749498998%2C%2013.917835671342685%2C%2013.96192384769539%2C%2014.006012024048097%2C%2014.050100200400802%2C%2014.094188376753507%2C%2014.138276553106213%2C%2014.182364729458918%2C%2014.226452905811623%2C%2014.270541082164328%2C%2014.314629258517034%2C%2014.358717434869739%2C%2014.402805611222444%2C%2014.446893787575151%2C%2014.490981963927856%2C%2014.535070140280562%2C%2014.579158316633267%2C%2014.623246492985972%2C%2014.667334669338677%2C%2014.711422845691382%2C%2014.755511022044088%2C%2014.799599198396793%2C%2014.843687374749498%2C%2014.887775551102205%2C%2014.93186372745491%2C%2014.975951903807616%2C%2015.02004008016032%2C%2015.064128256513026%2C%2015.108216432865731%2C%2015.152304609218437%2C%2015.196392785571142%2C%2015.240480961923847%2C%2015.284569138276552%2C%2015.32865731462926%2C%2015.372745490981965%2C%2015.41683366733467%2C%2015.460921843687375%2C%2015.50501002004008%2C%2015.549098196392785%2C%2015.59318637274549%2C%2015.637274549098196%2C%2015.681362725450901%2C%2015.725450901803606%2C%2015.769539078156313%2C%2015.813627254509019%2C%2015.857715430861724%2C%2015.901803607214429%2C%2015.945891783567134%2C%2015.98997995991984%2C%2016.034068136272545%2C%2016.07815631262525%2C%2016.122244488977955%2C%2016.16633266533066%2C%2016.210420841683366%2C%2016.254509018036075%2C%2016.298597194388776%2C%2016.342685370741485%2C%2016.386773547094187%2C%2016.430861723446895%2C%2016.474949899799597%2C%2016.519038076152306%2C%2016.563126252505008%2C%2016.607214428857716%2C%2016.65130260521042%2C%2016.695390781563127%2C%2016.739478957915832%2C%2016.783567134268537%2C%2016.827655310621243%2C%2016.871743486973948%2C%2016.915831663326653%2C%2016.95991983967936%2C%2017.004008016032063%2C%2017.04809619238477%2C%2017.092184368737474%2C%2017.13627254509018%2C%2017.180360721442884%2C%2017.22444889779559%2C%2017.268537074148295%2C%2017.312625250501004%2C%2017.35671342685371%2C%2017.400801603206414%2C%2017.44488977955912%2C%2017.488977955911825%2C%2017.53306613226453%2C%2017.577154308617235%2C%2017.62124248496994%2C%2017.665330661322646%2C%2017.70941883767535%2C%2017.753507014028056%2C%2017.79759519038076%2C%2017.841683366733466%2C%2017.88577154308617%2C%2017.929859719438877%2C%2017.973947895791582%2C%2018.018036072144287%2C%2018.062124248496993%2C%2018.106212424849698%2C%2018.150300601202403%2C%2018.194388777555112%2C%2018.238476953907817%2C%2018.282565130260522%2C%2018.326653306613228%2C%2018.370741482965933%2C%2018.414829659318638%2C%2018.458917835671343%2C%2018.50300601202405%2C%2018.547094188376754%2C%2018.59118236472946%2C%2018.635270541082164%2C%2018.67935871743487%2C%2018.723446893787575%2C%2018.76753507014028%2C%2018.811623246492985%2C%2018.85571142284569%2C%2018.899799599198396%2C%2018.9438877755511%2C%2018.987975951903806%2C%2019.03206412825651%2C%2019.07615230460922%2C%2019.120240480961925%2C%2019.16432865731463%2C%2019.208416833667336%2C%2019.25250501002004%2C%2019.296593186372746%2C%2019.34068136272545%2C%2019.384769539078157%2C%2019.428857715430862%2C%2019.472945891783567%2C%2019.517034068136272%2C%2019.561122244488978%2C%2019.605210420841683%2C%2019.649298597194388%2C%2019.693386773547093%2C%2019.7374749498998%2C%2019.781563126252504%2C%2019.82565130260521%2C%2019.869739478957914%2C%2019.91382765531062%2C%2019.95791583166333%2C%2020.002004008016034%2C%2020.04609218436874%2C%2020.090180360721444%2C%2020.13426853707415%2C%2020.178356713426854%2C%2020.22244488977956%2C%2020.266533066132265%2C%2020.31062124248497%2C%2020.354709418837675%2C%2020.39879759519038%2C%2020.442885771543086%2C%2020.48697394789579%2C%2020.531062124248496%2C%2020.5751503006012%2C%2020.619238476953907%2C%2020.663326653306612%2C%2020.707414829659317%2C%2020.751503006012022%2C%2020.795591182364728%2C%2020.839679358717436%2C%2020.88376753507014%2C%2020.927855711422847%2C%2020.971943887775552%2C%2021.016032064128257%2C%2021.060120240480963%2C%2021.104208416833668%2C%2021.148296593186373%2C%2021.19238476953908%2C%2021.236472945891784%2C%2021.28056112224449%2C%2021.324649298597194%2C%2021.3687374749499%2C%2021.412825651302605%2C%2021.45691382765531%2C%2021.501002004008015%2C%2021.54509018036072%2C%2021.589178356713425%2C%2021.63326653306613%2C%2021.677354709418836%2C%2021.721442885771545%2C%2021.76553106212425%2C%2021.809619238476955%2C%2021.85370741482966%2C%2021.897795591182366%2C%2021.94188376753507%2C%2021.985971943887776%2C%2022.03006012024048%2C%2022.074148296593187%2C%2022.118236472945892%2C%2022.162324649298597%2C%2022.206412825651302%2C%2022.250501002004007%2C%2022.294589178356713%2C%2022.338677354709418%2C%2022.382765531062123%2C%2022.42685370741483%2C%2022.470941883767534%2C%2022.51503006012024%2C%2022.559118236472944%2C%2022.603206412825653%2C%2022.647294589178358%2C%2022.691382765531063%2C%2022.73547094188377%2C%2022.779559118236474%2C%2022.82364729458918%2C%2022.867735470941884%2C%2022.91182364729459%2C%2022.955911823647295%2C%2023.0%5D%29%0A%20%20%20%20%20%20%20%20%20%20%20%20%20%20.range%28%5B%27%23ffc0cbff%27%2C%20%27%23ffc0cbff%27%2C%20%27%23ffbfcbff%27%2C%20%27%23ffbecaff%27%2C%20%27%23ffbecaff%27%2C%20%27%23febdcaff%27%2C%20%27%23febccaff%27%2C%20%27%23febbc9ff%27%2C%20%27%23febbc9ff%27%2C%20%27%23fdbac9ff%27%2C%20%27%23fdb9c8ff%27%2C%20%27%23fdb9c8ff%27%2C%20%27%23fdb8c8ff%27%2C%20%27%23fdb7c8ff%27%2C%20%27%23fcb7c7ff%27%2C%20%27%23fcb6c7ff%27%2C%20%27%23fcb5c7ff%27%2C%20%27%23fcb5c7ff%27%2C%20%27%23fbb4c6ff%27%2C%20%27%23fbb3c6ff%27%2C%20%27%23fbb2c6ff%27%2C%20%27%23fbb2c5ff%27%2C%20%27%23fbb1c5ff%27%2C%20%27%23fab0c5ff%27%2C%20%27%23fab0c5ff%27%2C%20%27%23faafc4ff%27%2C%20%27%23faaec4ff%27%2C%20%27%23f9aec4ff%27%2C%20%27%23f9adc3ff%27%2C%20%27%23f9acc3ff%27%2C%20%27%23f9acc3ff%27%2C%20%27%23f9abc3ff%27%2C%20%27%23f8aac2ff%27%2C%20%27%23f8aac2ff%27%2C%20%27%23f8a9c2ff%27%2C%20%27%23f8a8c1ff%27%2C%20%27%23f7a7c1ff%27%2C%20%27%23f7a7c1ff%27%2C%20%27%23f7a6c1ff%27%2C%20%27%23f7a5c0ff%27%2C%20%27%23f6a5c0ff%27%2C%20%27%23f6a4c0ff%27%2C%20%27%23f6a3bfff%27%2C%20%27%23f6a3bfff%27%2C%20%27%23f6a2bfff%27%2C%20%27%23f5a1bfff%27%2C%20%27%23f5a1beff%27%2C%20%27%23f5a0beff%27%2C%20%27%23f59fbeff%27%2C%20%27%23f49fbdff%27%2C%20%27%23f49ebdff%27%2C%20%27%23f49dbdff%27%2C%20%27%23f49cbdff%27%2C%20%27%23f49cbcff%27%2C%20%27%23f39bbcff%27%2C%20%27%23f39abcff%27%2C%20%27%23f39abcff%27%2C%20%27%23f399bbff%27%2C%20%27%23f298bbff%27%2C%20%27%23f298bbff%27%2C%20%27%23f297baff%27%2C%20%27%23f296baff%27%2C%20%27%23f296baff%27%2C%20%27%23f195baff%27%2C%20%27%23f194b9ff%27%2C%20%27%23f194b9ff%27%2C%20%27%23f193b9ff%27%2C%20%27%23f092b8ff%27%2C%20%27%23f091b8ff%27%2C%20%27%23f091b8ff%27%2C%20%27%23f090b8ff%27%2C%20%27%23f08fb7ff%27%2C%20%27%23ef8fb7ff%27%2C%20%27%23ef8eb7ff%27%2C%20%27%23ef8db6ff%27%2C%20%27%23ef8db6ff%27%2C%20%27%23ee8cb6ff%27%2C%20%27%23ee8bb6ff%27%2C%20%27%23ee8bb5ff%27%2C%20%27%23ee8ab5ff%27%2C%20%27%23ed89b5ff%27%2C%20%27%23ed89b4ff%27%2C%20%27%23ed88b4ff%27%2C%20%27%23ed87b4ff%27%2C%20%27%23ed86b4ff%27%2C%20%27%23ec86b3ff%27%2C%20%27%23ec85b3ff%27%2C%20%27%23ec84b3ff%27%2C%20%27%23ec84b3ff%27%2C%20%27%23eb83b2ff%27%2C%20%27%23eb82b2ff%27%2C%20%27%23eb82b2ff%27%2C%20%27%23eb81b1ff%27%2C%20%27%23eb80b1ff%27%2C%20%27%23ea80b1ff%27%2C%20%27%23ea7fb1ff%27%2C%20%27%23ea7eb0ff%27%2C%20%27%23ea7eb0ff%27%2C%20%27%23e97db0ff%27%2C%20%27%23e97cafff%27%2C%20%27%23e97bafff%27%2C%20%27%23e97bafff%27%2C%20%27%23e97aafff%27%2C%20%27%23e879aeff%27%2C%20%27%23e879aeff%27%2C%20%27%23e878aeff%27%2C%20%27%23e877adff%27%2C%20%27%23e777adff%27%2C%20%27%23e776adff%27%2C%20%27%23e775adff%27%2C%20%27%23e775acff%27%2C%20%27%23e674acff%27%2C%20%27%23e673acff%27%2C%20%27%23e673abff%27%2C%20%27%23e672abff%27%2C%20%27%23e671abff%27%2C%20%27%23e570abff%27%2C%20%27%23e570aaff%27%2C%20%27%23e56faaff%27%2C%20%27%23e56eaaff%27%2C%20%27%23e46ea9ff%27%2C%20%27%23e46da9ff%27%2C%20%27%23e46ca9ff%27%2C%20%27%23e46ca9ff%27%2C%20%27%23e46ba8ff%27%2C%20%27%23e36aa8ff%27%2C%20%27%23e36aa8ff%27%2C%20%27%23e369a8ff%27%2C%20%27%23e368a7ff%27%2C%20%27%23e267a7ff%27%2C%20%27%23e267a7ff%27%2C%20%27%23e266a6ff%27%2C%20%27%23e265a6ff%27%2C%20%27%23e265a6ff%27%2C%20%27%23e164a6ff%27%2C%20%27%23e163a5ff%27%2C%20%27%23e163a5ff%27%2C%20%27%23e162a5ff%27%2C%20%27%23e061a4ff%27%2C%20%27%23e061a4ff%27%2C%20%27%23e060a4ff%27%2C%20%27%23e05fa4ff%27%2C%20%27%23e05fa3ff%27%2C%20%27%23df5ea3ff%27%2C%20%27%23df5da3ff%27%2C%20%27%23df5ca2ff%27%2C%20%27%23df5ca2ff%27%2C%20%27%23de5ba2ff%27%2C%20%27%23de5aa2ff%27%2C%20%27%23de5aa1ff%27%2C%20%27%23de59a1ff%27%2C%20%27%23dd58a1ff%27%2C%20%27%23dd58a0ff%27%2C%20%27%23dd57a0ff%27%2C%20%27%23dd56a0ff%27%2C%20%27%23dd56a0ff%27%2C%20%27%23dc559fff%27%2C%20%27%23dc549fff%27%2C%20%27%23dc549fff%27%2C%20%27%23dc539fff%27%2C%20%27%23db529eff%27%2C%20%27%23db519eff%27%2C%20%27%23db519eff%27%2C%20%27%23db509dff%27%2C%20%27%23db4f9dff%27%2C%20%27%23da4f9dff%27%2C%20%27%23da4e9dff%27%2C%20%27%23da4d9cff%27%2C%20%27%23da4d9cff%27%2C%20%27%23d94c9cff%27%2C%20%27%23d94b9bff%27%2C%20%27%23d94b9bff%27%2C%20%27%23d94a9bff%27%2C%20%27%23d9499bff%27%2C%20%27%23d8499aff%27%2C%20%27%23d8489aff%27%2C%20%27%23d8479aff%27%2C%20%27%23d84699ff%27%2C%20%27%23d74699ff%27%2C%20%27%23d74599ff%27%2C%20%27%23d74499ff%27%2C%20%27%23d74498ff%27%2C%20%27%23d64398ff%27%2C%20%27%23d64298ff%27%2C%20%27%23d64297ff%27%2C%20%27%23d64197ff%27%2C%20%27%23d64097ff%27%2C%20%27%23d54097ff%27%2C%20%27%23d53f96ff%27%2C%20%27%23d53e96ff%27%2C%20%27%23d53e96ff%27%2C%20%27%23d43d95ff%27%2C%20%27%23d43c95ff%27%2C%20%27%23d43b95ff%27%2C%20%27%23d43b95ff%27%2C%20%27%23d43a94ff%27%2C%20%27%23d33994ff%27%2C%20%27%23d33994ff%27%2C%20%27%23d33894ff%27%2C%20%27%23d33793ff%27%2C%20%27%23d23793ff%27%2C%20%27%23d23693ff%27%2C%20%27%23d23592ff%27%2C%20%27%23d23592ff%27%2C%20%27%23d23492ff%27%2C%20%27%23d13392ff%27%2C%20%27%23d13391ff%27%2C%20%27%23d13291ff%27%2C%20%27%23d13191ff%27%2C%20%27%23d03090ff%27%2C%20%27%23d03090ff%27%2C%20%27%23d02f90ff%27%2C%20%27%23d02e90ff%27%2C%20%27%23d02e8fff%27%2C%20%27%23cf2d8fff%27%2C%20%27%23cf2c8fff%27%2C%20%27%23cf2c8eff%27%2C%20%27%23cf2b8eff%27%2C%20%27%23ce2a8eff%27%2C%20%27%23ce2a8eff%27%2C%20%27%23ce298dff%27%2C%20%27%23ce288dff%27%2C%20%27%23cd288dff%27%2C%20%27%23cd278cff%27%2C%20%27%23cd268cff%27%2C%20%27%23cd258cff%27%2C%20%27%23cd258cff%27%2C%20%27%23cc248bff%27%2C%20%27%23cc238bff%27%2C%20%27%23cc238bff%27%2C%20%27%23cc228bff%27%2C%20%27%23cb218aff%27%2C%20%27%23cb218aff%27%2C%20%27%23cb208aff%27%2C%20%27%23cb1f89ff%27%2C%20%27%23cb1f89ff%27%2C%20%27%23ca1e89ff%27%2C%20%27%23ca1d89ff%27%2C%20%27%23ca1c88ff%27%2C%20%27%23ca1c88ff%27%2C%20%27%23c91b88ff%27%2C%20%27%23c91a87ff%27%2C%20%27%23c91a87ff%27%2C%20%27%23c91987ff%27%2C%20%27%23c91887ff%27%2C%20%27%23c81886ff%27%2C%20%27%23c81786ff%27%2C%20%27%23c81686ff%27%2C%20%27%23c81685ff%27%2C%20%27%23c71585ff%27%2C%20%27%23c71585ff%27%2C%20%27%23c81484ff%27%2C%20%27%23c81484ff%27%2C%20%27%23c81483ff%27%2C%20%27%23c81483ff%27%2C%20%27%23c91482ff%27%2C%20%27%23c91482ff%27%2C%20%27%23c91481ff%27%2C%20%27%23c91480ff%27%2C%20%27%23c91480ff%27%2C%20%27%23ca147fff%27%2C%20%27%23ca147fff%27%2C%20%27%23ca147eff%27%2C%20%27%23ca137eff%27%2C%20%27%23cb137dff%27%2C%20%27%23cb137dff%27%2C%20%27%23cb137cff%27%2C%20%27%23cb137cff%27%2C%20%27%23cb137bff%27%2C%20%27%23cc137bff%27%2C%20%27%23cc137aff%27%2C%20%27%23cc137aff%27%2C%20%27%23cc1379ff%27%2C%20%27%23cd1378ff%27%2C%20%27%23cd1378ff%27%2C%20%27%23cd1277ff%27%2C%20%27%23cd1277ff%27%2C%20%27%23cd1276ff%27%2C%20%27%23ce1276ff%27%2C%20%27%23ce1275ff%27%2C%20%27%23ce1275ff%27%2C%20%27%23ce1274ff%27%2C%20%27%23cf1274ff%27%2C%20%27%23cf1273ff%27%2C%20%27%23cf1273ff%27%2C%20%27%23cf1272ff%27%2C%20%27%23d01171ff%27%2C%20%27%23d01171ff%27%2C%20%27%23d01170ff%27%2C%20%27%23d01170ff%27%2C%20%27%23d0116fff%27%2C%20%27%23d1116fff%27%2C%20%27%23d1116eff%27%2C%20%27%23d1116eff%27%2C%20%27%23d1116dff%27%2C%20%27%23d2116dff%27%2C%20%27%23d2116cff%27%2C%20%27%23d2116cff%27%2C%20%27%23d2106bff%27%2C%20%27%23d2106bff%27%2C%20%27%23d3106aff%27%2C%20%27%23d31069ff%27%2C%20%27%23d31069ff%27%2C%20%27%23d31068ff%27%2C%20%27%23d41068ff%27%2C%20%27%23d41067ff%27%2C%20%27%23d41067ff%27%2C%20%27%23d41066ff%27%2C%20%27%23d41066ff%27%2C%20%27%23d51065ff%27%2C%20%27%23d50f65ff%27%2C%20%27%23d50f64ff%27%2C%20%27%23d50f64ff%27%2C%20%27%23d60f63ff%27%2C%20%27%23d60f63ff%27%2C%20%27%23d60f62ff%27%2C%20%27%23d60f61ff%27%2C%20%27%23d60f61ff%27%2C%20%27%23d70f60ff%27%2C%20%27%23d70f60ff%27%2C%20%27%23d70f5fff%27%2C%20%27%23d70f5fff%27%2C%20%27%23d80e5eff%27%2C%20%27%23d80e5eff%27%2C%20%27%23d80e5dff%27%2C%20%27%23d80e5dff%27%2C%20%27%23d90e5cff%27%2C%20%27%23d90e5cff%27%2C%20%27%23d90e5bff%27%2C%20%27%23d90e5aff%27%2C%20%27%23d90e5aff%27%2C%20%27%23da0e59ff%27%2C%20%27%23da0e59ff%27%2C%20%27%23da0e58ff%27%2C%20%27%23da0d58ff%27%2C%20%27%23db0d57ff%27%2C%20%27%23db0d57ff%27%2C%20%27%23db0d56ff%27%2C%20%27%23db0d56ff%27%2C%20%27%23db0d55ff%27%2C%20%27%23dc0d55ff%27%2C%20%27%23dc0d54ff%27%2C%20%27%23dc0d54ff%27%2C%20%27%23dc0d53ff%27%2C%20%27%23dd0d52ff%27%2C%20%27%23dd0d52ff%27%2C%20%27%23dd0c51ff%27%2C%20%27%23dd0c51ff%27%2C%20%27%23dd0c50ff%27%2C%20%27%23de0c50ff%27%2C%20%27%23de0c4fff%27%2C%20%27%23de0c4fff%27%2C%20%27%23de0c4eff%27%2C%20%27%23df0c4eff%27%2C%20%27%23df0c4dff%27%2C%20%27%23df0c4dff%27%2C%20%27%23df0c4cff%27%2C%20%27%23e00b4bff%27%2C%20%27%23e00b4bff%27%2C%20%27%23e00b4aff%27%2C%20%27%23e00b4aff%27%2C%20%27%23e00b49ff%27%2C%20%27%23e10b49ff%27%2C%20%27%23e10b48ff%27%2C%20%27%23e10b48ff%27%2C%20%27%23e10b47ff%27%2C%20%27%23e20b47ff%27%2C%20%27%23e20b46ff%27%2C%20%27%23e20b46ff%27%2C%20%27%23e20a45ff%27%2C%20%27%23e20a45ff%27%2C%20%27%23e30a44ff%27%2C%20%27%23e30a43ff%27%2C%20%27%23e30a43ff%27%2C%20%27%23e30a42ff%27%2C%20%27%23e40a42ff%27%2C%20%27%23e40a41ff%27%2C%20%27%23e40a41ff%27%2C%20%27%23e40a40ff%27%2C%20%27%23e40a40ff%27%2C%20%27%23e50a3fff%27%2C%20%27%23e5093fff%27%2C%20%27%23e5093eff%27%2C%20%27%23e5093eff%27%2C%20%27%23e6093dff%27%2C%20%27%23e6093dff%27%2C%20%27%23e6093cff%27%2C%20%27%23e6093bff%27%2C%20%27%23e6093bff%27%2C%20%27%23e7093aff%27%2C%20%27%23e7093aff%27%2C%20%27%23e70939ff%27%2C%20%27%23e70939ff%27%2C%20%27%23e80838ff%27%2C%20%27%23e80838ff%27%2C%20%27%23e80837ff%27%2C%20%27%23e80837ff%27%2C%20%27%23e90836ff%27%2C%20%27%23e90836ff%27%2C%20%27%23e90835ff%27%2C%20%27%23e90834ff%27%2C%20%27%23e90834ff%27%2C%20%27%23ea0833ff%27%2C%20%27%23ea0833ff%27%2C%20%27%23ea0832ff%27%2C%20%27%23ea0732ff%27%2C%20%27%23eb0731ff%27%2C%20%27%23eb0731ff%27%2C%20%27%23eb0730ff%27%2C%20%27%23eb0730ff%27%2C%20%27%23eb072fff%27%2C%20%27%23ec072fff%27%2C%20%27%23ec072eff%27%2C%20%27%23ec072eff%27%2C%20%27%23ec072dff%27%2C%20%27%23ed072cff%27%2C%20%27%23ed072cff%27%2C%20%27%23ed062bff%27%2C%20%27%23ed062bff%27%2C%20%27%23ed062aff%27%2C%20%27%23ee062aff%27%2C%20%27%23ee0629ff%27%2C%20%27%23ee0629ff%27%2C%20%27%23ee0628ff%27%2C%20%27%23ef0628ff%27%2C%20%27%23ef0627ff%27%2C%20%27%23ef0627ff%27%2C%20%27%23ef0626ff%27%2C%20%27%23f00525ff%27%2C%20%27%23f00525ff%27%2C%20%27%23f00524ff%27%2C%20%27%23f00524ff%27%2C%20%27%23f00523ff%27%2C%20%27%23f10523ff%27%2C%20%27%23f10522ff%27%2C%20%27%23f10522ff%27%2C%20%27%23f10521ff%27%2C%20%27%23f20521ff%27%2C%20%27%23f20520ff%27%2C%20%27%23f20520ff%27%2C%20%27%23f2041fff%27%2C%20%27%23f2041fff%27%2C%20%27%23f3041eff%27%2C%20%27%23f3041dff%27%2C%20%27%23f3041dff%27%2C%20%27%23f3041cff%27%2C%20%27%23f4041cff%27%2C%20%27%23f4041bff%27%2C%20%27%23f4041bff%27%2C%20%27%23f4041aff%27%2C%20%27%23f4041aff%27%2C%20%27%23f50419ff%27%2C%20%27%23f50319ff%27%2C%20%27%23f50318ff%27%2C%20%27%23f50318ff%27%2C%20%27%23f60317ff%27%2C%20%27%23f60317ff%27%2C%20%27%23f60316ff%27%2C%20%27%23f60315ff%27%2C%20%27%23f60315ff%27%2C%20%27%23f70314ff%27%2C%20%27%23f70314ff%27%2C%20%27%23f70313ff%27%2C%20%27%23f70313ff%27%2C%20%27%23f80212ff%27%2C%20%27%23f80212ff%27%2C%20%27%23f80211ff%27%2C%20%27%23f80211ff%27%2C%20%27%23f90210ff%27%2C%20%27%23f90210ff%27%2C%20%27%23f9020fff%27%2C%20%27%23f9020eff%27%2C%20%27%23f9020eff%27%2C%20%27%23fa020dff%27%2C%20%27%23fa020dff%27%2C%20%27%23fa020cff%27%2C%20%27%23fa010cff%27%2C%20%27%23fb010bff%27%2C%20%27%23fb010bff%27%2C%20%27%23fb010aff%27%2C%20%27%23fb010aff%27%2C%20%27%23fb0109ff%27%2C%20%27%23fc0109ff%27%2C%20%27%23fc0108ff%27%2C%20%27%23fc0108ff%27%2C%20%27%23fc0107ff%27%2C%20%27%23fd0106ff%27%2C%20%27%23fd0106ff%27%2C%20%27%23fd0005ff%27%2C%20%27%23fd0005ff%27%2C%20%27%23fd0004ff%27%2C%20%27%23fe0004ff%27%2C%20%27%23fe0003ff%27%2C%20%27%23fe0003ff%27%2C%20%27%23fe0002ff%27%2C%20%27%23ff0002ff%27%2C%20%27%23ff0001ff%27%2C%20%27%23ff0001ff%27%2C%20%27%23ff0000ff%27%2C%20%27%23ff0000ff%27%5D%29%3B%0A%20%20%20%20%0A%0A%20%20%20%20color_map_423c8238a268475a83be039fd3827a00.x%20%3D%20d3.scale.linear%28%29%0A%20%20%20%20%20%20%20%20%20%20%20%20%20%20.domain%28%5B1.0%2C%2023.0%5D%29%0A%20%20%20%20%20%20%20%20%20%20%20%20%20%20.range%28%5B0%2C%20400%5D%29%3B%0A%0A%20%20%20%20color_map_423c8238a268475a83be039fd3827a00.legend%20%3D%20L.control%28%7Bposition%3A%20%27topright%27%7D%29%3B%0A%20%20%20%20color_map_423c8238a268475a83be039fd3827a00.legend.onAdd%20%3D%20function%20%28map%29%20%7Bvar%20div%20%3D%20L.DomUtil.create%28%27div%27%2C%20%27legend%27%29%3B%20return%20div%7D%3B%0A%20%20%20%20color_map_423c8238a268475a83be039fd3827a00.legend.addTo%28map_e170d6f913be4d8492ac3bcd1be3b972%29%3B%0A%0A%20%20%20%20color_map_423c8238a268475a83be039fd3827a00.xAxis%20%3D%20d3.svg.axis%28%29%0A%20%20%20%20%20%20%20%20.scale%28color_map_423c8238a268475a83be039fd3827a00.x%29%0A%20%20%20%20%20%20%20%20.orient%28%22top%22%29%0A%20%20%20%20%20%20%20%20.tickSize%281%29%0A%20%20%20%20%20%20%20%20.tickValues%28%5B1.0%2C%2012.0%2C%2023.0%5D%29%3B%0A%0A%20%20%20%20color_map_423c8238a268475a83be039fd3827a00.svg%20%3D%20d3.select%28%22.legend.leaflet-control%22%29.append%28%22svg%22%29%0A%20%20%20%20%20%20%20%20.attr%28%22id%22%2C%20%27legend%27%29%0A%20%20%20%20%20%20%20%20.attr%28%22width%22%2C%20450%29%0A%20%20%20%20%20%20%20%20.attr%28%22height%22%2C%2040%29%3B%0A%0A%20%20%20%20color_map_423c8238a268475a83be039fd3827a00.g%20%3D%20color_map_423c8238a268475a83be039fd3827a00.svg.append%28%22g%22%29%0A%20%20%20%20%20%20%20%20.attr%28%22class%22%2C%20%22key%22%29%0A%20%20%20%20%20%20%20%20.attr%28%22transform%22%2C%20%22translate%2825%2C16%29%22%29%3B%0A%0A%20%20%20%20color_map_423c8238a268475a83be039fd3827a00.g.selectAll%28%22rect%22%29%0A%20%20%20%20%20%20%20%20.data%28color_map_423c8238a268475a83be039fd3827a00.color.range%28%29.map%28function%28d%2C%20i%29%20%7B%0A%20%20%20%20%20%20%20%20%20%20return%20%7B%0A%20%20%20%20%20%20%20%20%20%20%20%20x0%3A%20i%20%3F%20color_map_423c8238a268475a83be039fd3827a00.x%28color_map_423c8238a268475a83be039fd3827a00.color.domain%28%29%5Bi%20-%201%5D%29%20%3A%20color_map_423c8238a268475a83be039fd3827a00.x.range%28%29%5B0%5D%2C%0A%20%20%20%20%20%20%20%20%20%20%20%20x1%3A%20i%20%3C%20color_map_423c8238a268475a83be039fd3827a00.color.domain%28%29.length%20%3F%20color_map_423c8238a268475a83be039fd3827a00.x%28color_map_423c8238a268475a83be039fd3827a00.color.domain%28%29%5Bi%5D%29%20%3A%20color_map_423c8238a268475a83be039fd3827a00.x.range%28%29%5B1%5D%2C%0A%20%20%20%20%20%20%20%20%20%20%20%20z%3A%20d%0A%20%20%20%20%20%20%20%20%20%20%7D%3B%0A%20%20%20%20%20%20%20%20%7D%29%29%0A%20%20%20%20%20%20.enter%28%29.append%28%22rect%22%29%0A%20%20%20%20%20%20%20%20.attr%28%22height%22%2C%2010%29%0A%20%20%20%20%20%20%20%20.attr%28%22x%22%2C%20function%28d%29%20%7B%20return%20d.x0%3B%20%7D%29%0A%20%20%20%20%20%20%20%20.attr%28%22width%22%2C%20function%28d%29%20%7B%20return%20d.x1%20-%20d.x0%3B%20%7D%29%0A%20%20%20%20%20%20%20%20.style%28%22fill%22%2C%20function%28d%29%20%7B%20return%20d.z%3B%20%7D%29%3B%0A%0A%20%20%20%20color_map_423c8238a268475a83be039fd3827a00.g.call%28color_map_423c8238a268475a83be039fd3827a00.xAxis%29.append%28%22text%22%29%0A%20%20%20%20%20%20%20%20.attr%28%22class%22%2C%20%22caption%22%29%0A%20%20%20%20%20%20%20%20.attr%28%22y%22%2C%2021%29%0A%20%20%20%20%20%20%20%20.text%28%27%27%29%3B%0A%3C/script%3E onload=\"this.contentDocument.open();this.contentDocument.write(    decodeURIComponent(this.getAttribute('data-html')));this.contentDocument.close();\" allowfullscreen webkitallowfullscreen mozallowfullscreen></iframe></div></div>"
      ],
      "text/plain": [
       "<folium.folium.Map at 0x7fce28536e80>"
      ]
     },
     "execution_count": 12,
     "metadata": {},
     "output_type": "execute_result"
    }
   ],
   "source": [
    "choropleth_map(df_aggreg, with_legend = True)"
   ]
  },
  {
   "cell_type": "code",
   "execution_count": null,
   "metadata": {},
   "outputs": [],
   "source": [
    "# pass our HK Gov Covid-19 dataset into aggregation function\n",
    "# View at Buidling Name Level"
   ]
  },
  {
   "cell_type": "code",
   "execution_count": 13,
   "metadata": {},
   "outputs": [
    {
     "name": "stderr",
     "output_type": "stream",
     "text": [
      "<ipython-input-10-a7a53ee5aef4>:39: SettingWithCopyWarning: \n",
      "A value is trying to be set on a copy of a slice from a DataFrame.\n",
      "Try using .loc[row_indexer,col_indexer] = value instead\n",
      "\n",
      "See the caveats in the documentation: https://pandas.pydata.org/pandas-docs/stable/user_guide/indexing.html#returning-a-view-versus-a-copy\n",
      "  df[\"hex_id\"] = df.apply(lambda row: h3.geo_to_h3(row[\"building_latitude\"], row[\"building_longitude\"], resolution), axis = 1)\n"
     ]
    }
   ],
   "source": [
    "df_aggreg = counts_by_hexagon_building(df = data2, resolution = 8)\n",
    "df_aggreg.sort_values(by = \"value\", ascending = False, inplace = True)"
   ]
  },
  {
   "cell_type": "code",
   "execution_count": 14,
   "metadata": {},
   "outputs": [
    {
     "data": {
      "text/html": [
       "<div style=\"width:100%;\"><div style=\"position:relative;width:100%;height:0;padding-bottom:60%;\"><span style=\"color:#565656\">Make this Notebook Trusted to load map: File -> Trust Notebook</span><iframe src=\"about:blank\" style=\"position:absolute;width:100%;height:100%;left:0;top:0;border:none !important;\" data-html=%3C%21DOCTYPE%20html%3E%0A%3Chead%3E%20%20%20%20%0A%20%20%20%20%3Cmeta%20http-equiv%3D%22content-type%22%20content%3D%22text/html%3B%20charset%3DUTF-8%22%20/%3E%0A%20%20%20%20%0A%20%20%20%20%20%20%20%20%3Cscript%3E%0A%20%20%20%20%20%20%20%20%20%20%20%20L_NO_TOUCH%20%3D%20false%3B%0A%20%20%20%20%20%20%20%20%20%20%20%20L_DISABLE_3D%20%3D%20false%3B%0A%20%20%20%20%20%20%20%20%3C/script%3E%0A%20%20%20%20%0A%20%20%20%20%3Cstyle%3Ehtml%2C%20body%20%7Bwidth%3A%20100%25%3Bheight%3A%20100%25%3Bmargin%3A%200%3Bpadding%3A%200%3B%7D%3C/style%3E%0A%20%20%20%20%3Cstyle%3E%23map%20%7Bposition%3Aabsolute%3Btop%3A0%3Bbottom%3A0%3Bright%3A0%3Bleft%3A0%3B%7D%3C/style%3E%0A%20%20%20%20%3Cscript%20src%3D%22https%3A//cdn.jsdelivr.net/npm/leaflet%401.6.0/dist/leaflet.js%22%3E%3C/script%3E%0A%20%20%20%20%3Cscript%20src%3D%22https%3A//code.jquery.com/jquery-1.12.4.min.js%22%3E%3C/script%3E%0A%20%20%20%20%3Cscript%20src%3D%22https%3A//maxcdn.bootstrapcdn.com/bootstrap/3.2.0/js/bootstrap.min.js%22%3E%3C/script%3E%0A%20%20%20%20%3Cscript%20src%3D%22https%3A//cdnjs.cloudflare.com/ajax/libs/Leaflet.awesome-markers/2.0.2/leaflet.awesome-markers.js%22%3E%3C/script%3E%0A%20%20%20%20%3Clink%20rel%3D%22stylesheet%22%20href%3D%22https%3A//cdn.jsdelivr.net/npm/leaflet%401.6.0/dist/leaflet.css%22/%3E%0A%20%20%20%20%3Clink%20rel%3D%22stylesheet%22%20href%3D%22https%3A//maxcdn.bootstrapcdn.com/bootstrap/3.2.0/css/bootstrap.min.css%22/%3E%0A%20%20%20%20%3Clink%20rel%3D%22stylesheet%22%20href%3D%22https%3A//maxcdn.bootstrapcdn.com/bootstrap/3.2.0/css/bootstrap-theme.min.css%22/%3E%0A%20%20%20%20%3Clink%20rel%3D%22stylesheet%22%20href%3D%22https%3A//maxcdn.bootstrapcdn.com/font-awesome/4.6.3/css/font-awesome.min.css%22/%3E%0A%20%20%20%20%3Clink%20rel%3D%22stylesheet%22%20href%3D%22https%3A//cdnjs.cloudflare.com/ajax/libs/Leaflet.awesome-markers/2.0.2/leaflet.awesome-markers.css%22/%3E%0A%20%20%20%20%3Clink%20rel%3D%22stylesheet%22%20href%3D%22https%3A//cdn.jsdelivr.net/gh/python-visualization/folium/folium/templates/leaflet.awesome.rotate.min.css%22/%3E%0A%20%20%20%20%0A%20%20%20%20%20%20%20%20%20%20%20%20%3Cmeta%20name%3D%22viewport%22%20content%3D%22width%3Ddevice-width%2C%0A%20%20%20%20%20%20%20%20%20%20%20%20%20%20%20%20initial-scale%3D1.0%2C%20maximum-scale%3D1.0%2C%20user-scalable%3Dno%22%20/%3E%0A%20%20%20%20%20%20%20%20%20%20%20%20%3Cstyle%3E%0A%20%20%20%20%20%20%20%20%20%20%20%20%20%20%20%20%23map_4be80089ec9e44f9a1d1a92228c9d256%20%7B%0A%20%20%20%20%20%20%20%20%20%20%20%20%20%20%20%20%20%20%20%20position%3A%20relative%3B%0A%20%20%20%20%20%20%20%20%20%20%20%20%20%20%20%20%20%20%20%20width%3A%20100.0%25%3B%0A%20%20%20%20%20%20%20%20%20%20%20%20%20%20%20%20%20%20%20%20height%3A%20100.0%25%3B%0A%20%20%20%20%20%20%20%20%20%20%20%20%20%20%20%20%20%20%20%20left%3A%200.0%25%3B%0A%20%20%20%20%20%20%20%20%20%20%20%20%20%20%20%20%20%20%20%20top%3A%200.0%25%3B%0A%20%20%20%20%20%20%20%20%20%20%20%20%20%20%20%20%7D%0A%20%20%20%20%20%20%20%20%20%20%20%20%3C/style%3E%0A%20%20%20%20%20%20%20%20%0A%20%20%20%20%3Cscript%20src%3D%22https%3A//cdnjs.cloudflare.com/ajax/libs/d3/3.5.5/d3.min.js%22%3E%3C/script%3E%0A%3C/head%3E%0A%3Cbody%3E%20%20%20%20%0A%20%20%20%20%0A%20%20%20%20%20%20%20%20%20%20%20%20%3Cdiv%20class%3D%22folium-map%22%20id%3D%22map_4be80089ec9e44f9a1d1a92228c9d256%22%20%3E%3C/div%3E%0A%20%20%20%20%20%20%20%20%0A%3C/body%3E%0A%3Cscript%3E%20%20%20%20%0A%20%20%20%20%0A%20%20%20%20%20%20%20%20%20%20%20%20var%20map_4be80089ec9e44f9a1d1a92228c9d256%20%3D%20L.map%28%0A%20%20%20%20%20%20%20%20%20%20%20%20%20%20%20%20%22map_4be80089ec9e44f9a1d1a92228c9d256%22%2C%0A%20%20%20%20%20%20%20%20%20%20%20%20%20%20%20%20%7B%0A%20%20%20%20%20%20%20%20%20%20%20%20%20%20%20%20%20%20%20%20center%3A%20%5B22.280887%2C%20114.1575%5D%2C%0A%20%20%20%20%20%20%20%20%20%20%20%20%20%20%20%20%20%20%20%20crs%3A%20L.CRS.EPSG3857%2C%0A%20%20%20%20%20%20%20%20%20%20%20%20%20%20%20%20%20%20%20%20zoom%3A%2012%2C%0A%20%20%20%20%20%20%20%20%20%20%20%20%20%20%20%20%20%20%20%20zoomControl%3A%20true%2C%0A%20%20%20%20%20%20%20%20%20%20%20%20%20%20%20%20%20%20%20%20preferCanvas%3A%20false%2C%0A%20%20%20%20%20%20%20%20%20%20%20%20%20%20%20%20%7D%0A%20%20%20%20%20%20%20%20%20%20%20%20%29%3B%0A%0A%20%20%20%20%20%20%20%20%20%20%20%20%0A%0A%20%20%20%20%20%20%20%20%0A%20%20%20%20%0A%20%20%20%20%20%20%20%20%20%20%20%20var%20tile_layer_baa5ff067acb4928bd52beb768f37f49%20%3D%20L.tileLayer%28%0A%20%20%20%20%20%20%20%20%20%20%20%20%20%20%20%20%22https%3A//cartodb-basemaps-%7Bs%7D.global.ssl.fastly.net/light_all/%7Bz%7D/%7Bx%7D/%7By%7D.png%22%2C%0A%20%20%20%20%20%20%20%20%20%20%20%20%20%20%20%20%7B%22attribution%22%3A%20%22%5Cu0026copy%3B%20%5Cu003ca%20href%3D%5C%22http%3A//www.openstreetmap.org/copyright%5C%22%5Cu003eOpenStreetMap%5Cu003c/a%5Cu003e%20contributors%20%5Cu0026copy%3B%20%5Cu003ca%20href%3D%5C%22http%3A//cartodb.com/attributions%5C%22%5Cu003eCartoDB%5Cu003c/a%5Cu003e%2C%20CartoDB%20%5Cu003ca%20href%20%3D%5C%22http%3A//cartodb.com/attributions%5C%22%5Cu003eattributions%5Cu003c/a%5Cu003e%22%2C%20%22detectRetina%22%3A%20false%2C%20%22maxNativeZoom%22%3A%2018%2C%20%22maxZoom%22%3A%2018%2C%20%22minZoom%22%3A%200%2C%20%22noWrap%22%3A%20false%2C%20%22opacity%22%3A%201%2C%20%22subdomains%22%3A%20%22abc%22%2C%20%22tms%22%3A%20false%7D%0A%20%20%20%20%20%20%20%20%20%20%20%20%29.addTo%28map_4be80089ec9e44f9a1d1a92228c9d256%29%3B%0A%20%20%20%20%20%20%20%20%0A%20%20%20%20%0A%20%20%20%20%20%20%20%20function%20geo_json_5d298674ce6c490fa48bd8e550575645_styler%28feature%29%20%7B%0A%20%20%20%20%20%20%20%20%20%20%20%20switch%28feature.id%29%20%7B%0A%20%20%20%20%20%20%20%20%20%20%20%20%20%20%20%20case%20%2288411ca211fffff%22%3A%20%0A%20%20%20%20%20%20%20%20%20%20%20%20%20%20%20%20%20%20%20%20return%20%7B%22color%22%3A%20%22black%22%2C%20%22fillColor%22%3A%20%22%23ff0000ff%22%2C%20%22fillOpacity%22%3A%200.7%2C%20%22weight%22%3A%201%7D%3B%0A%20%20%20%20%20%20%20%20%20%20%20%20%20%20%20%20case%20%2288410349b5fffff%22%3A%20%0A%20%20%20%20%20%20%20%20%20%20%20%20%20%20%20%20%20%20%20%20return%20%7B%22color%22%3A%20%22black%22%2C%20%22fillColor%22%3A%20%22%23f00524ff%22%2C%20%22fillOpacity%22%3A%200.7%2C%20%22weight%22%3A%201%7D%3B%0A%20%20%20%20%20%20%20%20%20%20%20%20%20%20%20%20case%20%228841034921fffff%22%3A%20%0A%20%20%20%20%20%20%20%20%20%20%20%20%20%20%20%20%20%20%20%20return%20%7B%22color%22%3A%20%22black%22%2C%20%22fillColor%22%3A%20%22%23d70f61ff%22%2C%20%22fillOpacity%22%3A%200.7%2C%20%22weight%22%3A%201%7D%3B%0A%20%20%20%20%20%20%20%20%20%20%20%20%20%20%20%20case%20%2288411c86e7fffff%22%3A%20%0A%20%20%20%20%20%20%20%20%20%20%20%20%20%20%20%20%20%20%20%20return%20%7B%22color%22%3A%20%22black%22%2C%20%22fillColor%22%3A%20%22%23d74398ff%22%2C%20%22fillOpacity%22%3A%200.7%2C%20%22weight%22%3A%201%7D%3B%0A%20%20%20%20%20%20%20%20%20%20%20%20%20%20%20%20case%20%2288411cb359fffff%22%3A%20case%20%2288411ca307fffff%22%3A%20%0A%20%20%20%20%20%20%20%20%20%20%20%20%20%20%20%20%20%20%20%20return%20%7B%22color%22%3A%20%22black%22%2C%20%22fillColor%22%3A%20%22%23e163a5ff%22%2C%20%22fillOpacity%22%3A%200.7%2C%20%22weight%22%3A%201%7D%3B%0A%20%20%20%20%20%20%20%20%20%20%20%20%20%20%20%20case%20%2288411c8693fffff%22%3A%20%0A%20%20%20%20%20%20%20%20%20%20%20%20%20%20%20%20%20%20%20%20return%20%7B%22color%22%3A%20%22black%22%2C%20%22fillColor%22%3A%20%22%23e672abff%22%2C%20%22fillOpacity%22%3A%200.7%2C%20%22weight%22%3A%201%7D%3B%0A%20%20%20%20%20%20%20%20%20%20%20%20%20%20%20%20case%20%2288411cb429fffff%22%3A%20%0A%20%20%20%20%20%20%20%20%20%20%20%20%20%20%20%20%20%20%20%20return%20%7B%22color%22%3A%20%22black%22%2C%20%22fillColor%22%3A%20%22%23eb82b2ff%22%2C%20%22fillOpacity%22%3A%200.7%2C%20%22weight%22%3A%201%7D%3B%0A%20%20%20%20%20%20%20%20%20%20%20%20%20%20%20%20case%20%2288411c8617fffff%22%3A%20case%20%2288411cb369fffff%22%3A%20case%20%2288411cb345fffff%22%3A%20%0A%20%20%20%20%20%20%20%20%20%20%20%20%20%20%20%20%20%20%20%20return%20%7B%22color%22%3A%20%22black%22%2C%20%22fillColor%22%3A%20%22%23f091b8ff%22%2C%20%22fillOpacity%22%3A%200.7%2C%20%22weight%22%3A%201%7D%3B%0A%20%20%20%20%20%20%20%20%20%20%20%20%20%20%20%20case%20%2288411c86b7fffff%22%3A%20case%20%2288411cb101fffff%22%3A%20%0A%20%20%20%20%20%20%20%20%20%20%20%20%20%20%20%20%20%20%20%20return%20%7B%22color%22%3A%20%22black%22%2C%20%22fillColor%22%3A%20%22%23f5a1bfff%22%2C%20%22fillOpacity%22%3A%200.7%2C%20%22weight%22%3A%201%7D%3B%0A%20%20%20%20%20%20%20%20%20%20%20%20%20%20%20%20case%20%2288411c844bfffff%22%3A%20case%20%2288411cb36dfffff%22%3A%20case%20%2288411cb363fffff%22%3A%20case%20%2288411c86d7fffff%22%3A%20%0A%20%20%20%20%20%20%20%20%20%20%20%20%20%20%20%20%20%20%20%20return%20%7B%22color%22%3A%20%22black%22%2C%20%22fillColor%22%3A%20%22%23fab1c5ff%22%2C%20%22fillOpacity%22%3A%200.7%2C%20%22weight%22%3A%201%7D%3B%0A%20%20%20%20%20%20%20%20%20%20%20%20%20%20%20%20default%3A%0A%20%20%20%20%20%20%20%20%20%20%20%20%20%20%20%20%20%20%20%20return%20%7B%22color%22%3A%20%22black%22%2C%20%22fillColor%22%3A%20%22%23ffc0cbff%22%2C%20%22fillOpacity%22%3A%200.7%2C%20%22weight%22%3A%201%7D%3B%0A%20%20%20%20%20%20%20%20%20%20%20%20%7D%0A%20%20%20%20%20%20%20%20%7D%0A%0A%20%20%20%20%20%20%20%20function%20geo_json_5d298674ce6c490fa48bd8e550575645_onEachFeature%28feature%2C%20layer%29%20%7B%0A%20%20%20%20%20%20%20%20%20%20%20%20layer.on%28%7B%0A%20%20%20%20%20%20%20%20%20%20%20%20%7D%29%3B%0A%20%20%20%20%20%20%20%20%7D%3B%0A%20%20%20%20%20%20%20%20var%20geo_json_5d298674ce6c490fa48bd8e550575645%20%3D%20L.geoJson%28null%2C%20%7B%0A%20%20%20%20%20%20%20%20%20%20%20%20%20%20%20%20onEachFeature%3A%20geo_json_5d298674ce6c490fa48bd8e550575645_onEachFeature%2C%0A%20%20%20%20%20%20%20%20%20%20%20%20%0A%20%20%20%20%20%20%20%20%20%20%20%20%20%20%20%20style%3A%20geo_json_5d298674ce6c490fa48bd8e550575645_styler%2C%0A%20%20%20%20%20%20%20%20%7D%29%3B%0A%0A%20%20%20%20%20%20%20%20function%20geo_json_5d298674ce6c490fa48bd8e550575645_add%20%28data%29%20%7B%0A%20%20%20%20%20%20%20%20%20%20%20%20geo_json_5d298674ce6c490fa48bd8e550575645%0A%20%20%20%20%20%20%20%20%20%20%20%20%20%20%20%20.addData%28data%29%0A%20%20%20%20%20%20%20%20%20%20%20%20%20%20%20%20.addTo%28map_4be80089ec9e44f9a1d1a92228c9d256%29%3B%0A%20%20%20%20%20%20%20%20%7D%0A%20%20%20%20%20%20%20%20%20%20%20%20geo_json_5d298674ce6c490fa48bd8e550575645_add%28%7B%22features%22%3A%20%5B%7B%22geometry%22%3A%20%7B%22coordinates%22%3A%20%5B%5B%5B113.980531%2C%2022.388017%5D%2C%20%5B113.981187%2C%2022.392737%5D%2C%20%5B113.97717%2C%2022.395901%5D%2C%20%5B113.972496%2C%2022.394344%5D%2C%20%5B113.971839%2C%2022.389624%5D%2C%20%5B113.975857%2C%2022.386461%5D%2C%20%5B113.980531%2C%2022.388017%5D%5D%5D%2C%20%22type%22%3A%20%22Polygon%22%7D%2C%20%22id%22%3A%20%2288411ca211fffff%22%2C%20%22properties%22%3A%20%7B%22value%22%3A%2023%7D%2C%20%22type%22%3A%20%22Feature%22%7D%2C%20%7B%22geometry%22%3A%20%7B%22coordinates%22%3A%20%5B%5B%5B114.161648%2C%2022.281812%5D%2C%20%5B114.162306%2C%2022.286531%5D%2C%20%5B114.158299%2C%2022.289696%5D%2C%20%5B114.153635%2C%2022.288143%5D%2C%20%5B114.152977%2C%2022.283424%5D%2C%20%5B114.156983%2C%2022.280259%5D%2C%20%5B114.161648%2C%2022.281812%5D%5D%5D%2C%20%22type%22%3A%20%22Polygon%22%7D%2C%20%22id%22%3A%20%2288410349b5fffff%22%2C%20%22properties%22%3A%20%7B%22value%22%3A%2020%7D%2C%20%22type%22%3A%20%22Feature%22%7D%2C%20%7B%22geometry%22%3A%20%7B%22coordinates%22%3A%20%5B%5B%5B114.239645%2C%2022.267291%5D%2C%20%5B114.240304%2C%2022.272008%5D%2C%20%5B114.236302%2C%2022.275174%5D%2C%20%5B114.231641%2C%2022.273623%5D%2C%20%5B114.230982%2C%2022.268906%5D%2C%20%5B114.234985%2C%2022.26574%5D%2C%20%5B114.239645%2C%2022.267291%5D%5D%5D%2C%20%22type%22%3A%20%22Polygon%22%7D%2C%20%22id%22%3A%20%228841034921fffff%22%2C%20%22properties%22%3A%20%7B%22value%22%3A%2015%7D%2C%20%22type%22%3A%20%22Feature%22%7D%2C%20%7B%22geometry%22%3A%20%7B%22coordinates%22%3A%20%5B%5B%5B114.228247%2C%2022.312969%5D%2C%20%5B114.228906%2C%2022.317685%5D%2C%20%5B114.224903%2C%2022.320851%5D%2C%20%5B114.22024%2C%2022.319301%5D%2C%20%5B114.219582%2C%2022.314585%5D%2C%20%5B114.223585%2C%2022.311419%5D%2C%20%5B114.228247%2C%2022.312969%5D%5D%5D%2C%20%22type%22%3A%20%22Polygon%22%7D%2C%20%22id%22%3A%20%2288411c86e7fffff%22%2C%20%22properties%22%3A%20%7B%22value%22%3A%209%7D%2C%20%22type%22%3A%20%22Feature%22%7D%2C%20%7B%22geometry%22%3A%20%7B%22coordinates%22%3A%20%5B%5B%5B114.144305%2C%2022.285035%5D%2C%20%5B114.144963%2C%2022.289754%5D%2C%20%5B114.140956%2C%2022.29292%5D%2C%20%5B114.13629%2C%2022.291366%5D%2C%20%5B114.135632%2C%2022.286647%5D%2C%20%5B114.13964%2C%2022.283481%5D%2C%20%5B114.144305%2C%2022.285035%5D%5D%5D%2C%20%22type%22%3A%20%22Polygon%22%7D%2C%20%22id%22%3A%20%2288411cb359fffff%22%2C%20%22properties%22%3A%20%7B%22value%22%3A%207%7D%2C%20%22type%22%3A%20%22Feature%22%7D%2C%20%7B%22geometry%22%3A%20%7B%22coordinates%22%3A%20%5B%5B%5B114.03719%2C%2022.442858%5D%2C%20%5B114.037847%2C%2022.447574%5D%2C%20%5B114.033832%2C%2022.450738%5D%2C%20%5B114.029159%2C%2022.449186%5D%2C%20%5B114.028502%2C%2022.44447%5D%2C%20%5B114.032518%2C%2022.441306%5D%2C%20%5B114.03719%2C%2022.442858%5D%5D%5D%2C%20%22type%22%3A%20%22Polygon%22%7D%2C%20%22id%22%3A%20%2288411ca307fffff%22%2C%20%22properties%22%3A%20%7B%22value%22%3A%207%7D%2C%20%22type%22%3A%20%22Feature%22%7D%2C%20%7B%22geometry%22%3A%20%7B%22coordinates%22%3A%20%5B%5B%5B114.177614%2C%2022.300625%5D%2C%20%5B114.178273%2C%2022.305343%5D%2C%20%5B114.174267%2C%2022.308508%5D%2C%20%5B114.169603%2C%2022.306956%5D%2C%20%5B114.168944%2C%2022.302238%5D%2C%20%5B114.17295%2C%2022.299073%5D%2C%20%5B114.177614%2C%2022.300625%5D%5D%5D%2C%20%22type%22%3A%20%22Polygon%22%7D%2C%20%22id%22%3A%20%2288411c8693fffff%22%2C%20%22properties%22%3A%20%7B%22value%22%3A%206%7D%2C%20%22type%22%3A%20%22Feature%22%7D%2C%20%7B%22geometry%22%3A%20%7B%22coordinates%22%3A%20%5B%5B%5B113.939279%2C%2022.315724%5D%2C%20%5B113.939935%2C%2022.320448%5D%2C%20%5B113.935917%2C%2022.323611%5D%2C%20%5B113.931242%2C%2022.322051%5D%2C%20%5B113.930586%2C%2022.317327%5D%2C%20%5B113.934605%2C%2022.314163%5D%2C%20%5B113.939279%2C%2022.315724%5D%5D%5D%2C%20%22type%22%3A%20%22Polygon%22%7D%2C%20%22id%22%3A%20%2288411cb429fffff%22%2C%20%22properties%22%3A%20%7B%22value%22%3A%205%7D%2C%20%22type%22%3A%20%22Feature%22%7D%2C%20%7B%22geometry%22%3A%20%7B%22coordinates%22%3A%20%5B%5B%5B114.243598%2C%2022.29559%5D%2C%20%5B114.244257%2C%2022.300306%5D%2C%20%5B114.240255%2C%2022.303472%5D%2C%20%5B114.235594%2C%2022.301922%5D%2C%20%5B114.234935%2C%2022.297206%5D%2C%20%5B114.238937%2C%2022.29404%5D%2C%20%5B114.243598%2C%2022.29559%5D%5D%5D%2C%20%22type%22%3A%20%22Polygon%22%7D%2C%20%22id%22%3A%20%2288411c8617fffff%22%2C%20%22properties%22%3A%20%7B%22value%22%3A%204%7D%2C%20%22type%22%3A%20%22Feature%22%7D%2C%20%7B%22geometry%22%3A%20%7B%22coordinates%22%3A%20%5B%5B%5B114.174267%2C%2022.308508%5D%2C%20%5B114.174925%2C%2022.313225%5D%2C%20%5B114.170919%2C%2022.316391%5D%2C%20%5B114.166255%2C%2022.314839%5D%2C%20%5B114.165596%2C%2022.310121%5D%2C%20%5B114.169603%2C%2022.306956%5D%2C%20%5B114.174267%2C%2022.308508%5D%5D%5D%2C%20%22type%22%3A%20%22Polygon%22%7D%2C%20%22id%22%3A%20%2288411cb369fffff%22%2C%20%22properties%22%3A%20%7B%22value%22%3A%204%7D%2C%20%22type%22%3A%20%22Feature%22%7D%2C%20%7B%22geometry%22%3A%20%7B%22coordinates%22%3A%20%5B%5B%5B114.168944%2C%2022.302238%5D%2C%20%5B114.169603%2C%2022.306956%5D%2C%20%5B114.165596%2C%2022.310121%5D%2C%20%5B114.160932%2C%2022.308569%5D%2C%20%5B114.160274%2C%2022.303851%5D%2C%20%5B114.16428%2C%2022.300686%5D%2C%20%5B114.168944%2C%2022.302238%5D%5D%5D%2C%20%22type%22%3A%20%22Polygon%22%7D%2C%20%22id%22%3A%20%2288411cb345fffff%22%2C%20%22properties%22%3A%20%7B%22value%22%3A%204%7D%2C%20%22type%22%3A%20%22Feature%22%7D%2C%20%7B%22geometry%22%3A%20%7B%22coordinates%22%3A%20%5B%5B%5B114.190234%2C%2022.327313%5D%2C%20%5B114.190892%2C%2022.332029%5D%2C%20%5B114.186887%2C%2022.335194%5D%2C%20%5B114.182223%2C%2022.333644%5D%2C%20%5B114.181564%2C%2022.328927%5D%2C%20%5B114.18557%2C%2022.325762%5D%2C%20%5B114.190234%2C%2022.327313%5D%5D%5D%2C%20%22type%22%3A%20%22Polygon%22%7D%2C%20%22id%22%3A%20%2288411c86b7fffff%22%2C%20%22properties%22%3A%20%7B%22value%22%3A%203%7D%2C%20%22type%22%3A%20%22Feature%22%7D%2C%20%7B%22geometry%22%3A%20%7B%22coordinates%22%3A%20%5B%5B%5B114.1248%2C%2022.368523%5D%2C%20%5B114.125458%2C%2022.37324%5D%2C%20%5B114.121449%2C%2022.376405%5D%2C%20%5B114.116781%2C%2022.374853%5D%2C%20%5B114.116123%2C%2022.370136%5D%2C%20%5B114.120133%2C%2022.366972%5D%2C%20%5B114.1248%2C%2022.368523%5D%5D%5D%2C%20%22type%22%3A%20%22Polygon%22%7D%2C%20%22id%22%3A%20%2288411cb101fffff%22%2C%20%22properties%22%3A%20%7B%22value%22%3A%203%7D%2C%20%22type%22%3A%20%22Feature%22%7D%2C%20%7B%22geometry%22%3A%20%7B%22coordinates%22%3A%20%5B%5B%5B114.256215%2C%2022.322264%5D%2C%20%5B114.256874%2C%2022.326979%5D%2C%20%5B114.252872%2C%2022.330145%5D%2C%20%5B114.248211%2C%2022.328596%5D%2C%20%5B114.247552%2C%2022.323882%5D%2C%20%5B114.251554%2C%2022.320716%5D%2C%20%5B114.256215%2C%2022.322264%5D%5D%5D%2C%20%22type%22%3A%20%22Polygon%22%7D%2C%20%22id%22%3A%20%2288411c844bfffff%22%2C%20%22properties%22%3A%20%7B%22value%22%3A%202%7D%2C%20%22type%22%3A%20%22Feature%22%7D%2C%20%7B%22geometry%22%3A%20%7B%22coordinates%22%3A%20%5B%5B%5B114.179589%2C%2022.314777%5D%2C%20%5B114.180248%2C%2022.319494%5D%2C%20%5B114.176242%2C%2022.322659%5D%2C%20%5B114.171577%2C%2022.321108%5D%2C%20%5B114.170919%2C%2022.316391%5D%2C%20%5B114.174925%2C%2022.313225%5D%2C%20%5B114.179589%2C%2022.314777%5D%5D%5D%2C%20%22type%22%3A%20%22Polygon%22%7D%2C%20%22id%22%3A%20%2288411cb36dfffff%22%2C%20%22properties%22%3A%20%7B%22value%22%3A%202%7D%2C%20%22type%22%3A%20%22Feature%22%7D%2C%20%7B%22geometry%22%3A%20%7B%22coordinates%22%3A%20%5B%5B%5B114.162248%2C%2022.318004%5D%2C%20%5B114.162906%2C%2022.322722%5D%2C%20%5B114.1589%2C%2022.325887%5D%2C%20%5B114.154234%2C%2022.324335%5D%2C%20%5B114.153576%2C%2022.319617%5D%2C%20%5B114.157583%2C%2022.316452%5D%2C%20%5B114.162248%2C%2022.318004%5D%5D%5D%2C%20%22type%22%3A%20%22Polygon%22%7D%2C%20%22id%22%3A%20%2288411cb363fffff%22%2C%20%22properties%22%3A%20%7B%22value%22%3A%202%7D%2C%20%22type%22%3A%20%22Feature%22%7D%2C%20%7B%22geometry%22%3A%20%7B%22coordinates%22%3A%20%5B%5B%5B114.198297%2C%2022.289515%5D%2C%20%5B114.198956%2C%2022.294232%5D%2C%20%5B114.194951%2C%2022.297398%5D%2C%20%5B114.190288%2C%2022.295846%5D%2C%20%5B114.18963%2C%2022.291128%5D%2C%20%5B114.193635%2C%2022.287963%5D%2C%20%5B114.198297%2C%2022.289515%5D%5D%5D%2C%20%22type%22%3A%20%22Polygon%22%7D%2C%20%22id%22%3A%20%2288411c86d7fffff%22%2C%20%22properties%22%3A%20%7B%22value%22%3A%202%7D%2C%20%22type%22%3A%20%22Feature%22%7D%2C%20%7B%22geometry%22%3A%20%7B%22coordinates%22%3A%20%5B%5B%5B114.133477%2C%2022.36691%5D%2C%20%5B114.134135%2C%2022.371626%5D%2C%20%5B114.130126%2C%2022.374791%5D%2C%20%5B114.125458%2C%2022.37324%5D%2C%20%5B114.1248%2C%2022.368523%5D%2C%20%5B114.12881%2C%2022.365358%5D%2C%20%5B114.133477%2C%2022.36691%5D%5D%5D%2C%20%22type%22%3A%20%22Polygon%22%7D%2C%20%22id%22%3A%20%2288411cb10dfffff%22%2C%20%22properties%22%3A%20%7B%22value%22%3A%201%7D%2C%20%22type%22%3A%20%22Feature%22%7D%2C%20%7B%22geometry%22%3A%20%7B%22coordinates%22%3A%20%5B%5B%5B114.172292%2C%2022.294355%5D%2C%20%5B114.17295%2C%2022.299073%5D%2C%20%5B114.168944%2C%2022.302238%5D%2C%20%5B114.16428%2C%2022.300686%5D%2C%20%5B114.163622%2C%2022.295968%5D%2C%20%5B114.167628%2C%2022.292802%5D%2C%20%5B114.172292%2C%2022.294355%5D%5D%5D%2C%20%22type%22%3A%20%22Polygon%22%7D%2C%20%22id%22%3A%20%2288411cb34dfffff%22%2C%20%22properties%22%3A%20%7B%22value%22%3A%201%7D%2C%20%22type%22%3A%20%22Feature%22%7D%2C%20%7B%22geometry%22%3A%20%7B%22coordinates%22%3A%20%5B%5B%5B114.178987%2C%2022.278587%5D%2C%20%5B114.179645%2C%2022.283306%5D%2C%20%5B114.17564%2C%2022.286471%5D%2C%20%5B114.170976%2C%2022.284918%5D%2C%20%5B114.170318%2C%2022.2802%5D%2C%20%5B114.174323%2C%2022.277034%5D%2C%20%5B114.178987%2C%2022.278587%5D%5D%5D%2C%20%22type%22%3A%20%22Polygon%22%7D%2C%20%22id%22%3A%20%2288410349a1fffff%22%2C%20%22properties%22%3A%20%7B%22value%22%3A%201%7D%2C%20%22type%22%3A%20%22Feature%22%7D%2C%20%7B%22geometry%22%3A%20%7B%22coordinates%22%3A%20%5B%5B%5B114.272788%2C%2022.377204%5D%2C%20%5B114.273447%2C%2022.381916%5D%2C%20%5B114.269445%2C%2022.385082%5D%2C%20%5B114.264784%2C%2022.383536%5D%2C%20%5B114.264125%2C%2022.378824%5D%2C%20%5B114.268127%2C%2022.375658%5D%2C%20%5B114.272788%2C%2022.377204%5D%5D%5D%2C%20%22type%22%3A%20%22Polygon%22%7D%2C%20%22id%22%3A%20%2288411c8557fffff%22%2C%20%22properties%22%3A%20%7B%22value%22%3A%201%7D%2C%20%22type%22%3A%20%22Feature%22%7D%2C%20%7B%22geometry%22%3A%20%7B%22coordinates%22%3A%20%5B%5B%5B113.956999%2C%2022.443197%5D%2C%20%5B113.957655%2C%2022.447915%5D%2C%20%5B113.953636%2C%2022.451078%5D%2C%20%5B113.948959%2C%2022.449523%5D%2C%20%5B113.948303%2C%2022.444805%5D%2C%20%5B113.952323%2C%2022.441641%5D%2C%20%5B113.956999%2C%2022.443197%5D%5D%5D%2C%20%22type%22%3A%20%22Polygon%22%7D%2C%20%22id%22%3A%20%2288411ca011fffff%22%2C%20%22properties%22%3A%20%7B%22value%22%3A%201%7D%2C%20%22type%22%3A%20%22Feature%22%7D%2C%20%7B%22geometry%22%3A%20%7B%22coordinates%22%3A%20%5B%5B%5B114.228398%2C%2022.218557%5D%2C%20%5B114.229057%2C%2022.223276%5D%2C%20%5B114.225055%2C%2022.226442%5D%2C%20%5B114.220394%2C%2022.224889%5D%2C%20%5B114.219736%2C%2022.220169%5D%2C%20%5B114.223738%2C%2022.217003%5D%2C%20%5B114.228398%2C%2022.218557%5D%5D%5D%2C%20%22type%22%3A%20%22Polygon%22%7D%2C%20%22id%22%3A%20%228841034959fffff%22%2C%20%22properties%22%3A%20%7B%22value%22%3A%201%7D%2C%20%22type%22%3A%20%22Feature%22%7D%2C%20%7B%22geometry%22%3A%20%7B%22coordinates%22%3A%20%5B%5B%5B114.196927%2C%2022.311549%5D%2C%20%5B114.197585%2C%2022.316265%5D%2C%20%5B114.19358%2C%2022.319431%5D%2C%20%5B114.188917%2C%2022.31788%5D%2C%20%5B114.188258%2C%2022.313163%5D%2C%20%5B114.192264%2C%2022.309997%5D%2C%20%5B114.196927%2C%2022.311549%5D%5D%5D%2C%20%22type%22%3A%20%22Polygon%22%7D%2C%20%22id%22%3A%20%2288411c86b9fffff%22%2C%20%22properties%22%3A%20%7B%22value%22%3A%201%7D%2C%20%22type%22%3A%20%22Feature%22%7D%2C%20%7B%22geometry%22%3A%20%7B%22coordinates%22%3A%20%5B%5B%5B114.198902%2C%2022.325698%5D%2C%20%5B114.199561%2C%2022.330414%5D%2C%20%5B114.195556%2C%2022.333579%5D%2C%20%5B114.190892%2C%2022.332029%5D%2C%20%5B114.190234%2C%2022.327313%5D%2C%20%5B114.194239%2C%2022.324147%5D%2C%20%5B114.198902%2C%2022.325698%5D%5D%5D%2C%20%22type%22%3A%20%22Polygon%22%7D%2C%20%22id%22%3A%20%2288411c86b5fffff%22%2C%20%22properties%22%3A%20%7B%22value%22%3A%201%7D%2C%20%22type%22%3A%20%22Feature%22%7D%2C%20%7B%22geometry%22%3A%20%7B%22coordinates%22%3A%20%5B%5B%5B114.194951%2C%2022.297398%5D%2C%20%5B114.19561%2C%2022.302115%5D%2C%20%5B114.191605%2C%2022.30528%5D%2C%20%5B114.186942%2C%2022.303729%5D%2C%20%5B114.186283%2C%2022.299012%5D%2C%20%5B114.190288%2C%2022.295846%5D%2C%20%5B114.194951%2C%2022.297398%5D%5D%5D%2C%20%22type%22%3A%20%22Polygon%22%7D%2C%20%22id%22%3A%20%2288411c869dfffff%22%2C%20%22properties%22%3A%20%7B%22value%22%3A%201%7D%2C%20%22type%22%3A%20%22Feature%22%7D%2C%20%7B%22geometry%22%3A%20%7B%22coordinates%22%3A%20%5B%5B%5B114.256968%2C%2022.26406%5D%2C%20%5B114.257627%2C%2022.268777%5D%2C%20%5B114.253626%2C%2022.271943%5D%2C%20%5B114.248966%2C%2022.270392%5D%2C%20%5B114.248307%2C%2022.265676%5D%2C%20%5B114.252308%2C%2022.262509%5D%2C%20%5B114.256968%2C%2022.26406%5D%5D%5D%2C%20%22type%22%3A%20%22Polygon%22%7D%2C%20%22id%22%3A%20%2288411c865bfffff%22%2C%20%22properties%22%3A%20%7B%22value%22%3A%201%7D%2C%20%22type%22%3A%20%22Feature%22%7D%2C%20%7B%22geometry%22%3A%20%7B%22coordinates%22%3A%20%5B%5B%5B113.949365%2C%2022.29206%5D%2C%20%5B113.950021%2C%2022.296785%5D%2C%20%5B113.946004%2C%2022.299948%5D%2C%20%5B113.94133%2C%2022.298388%5D%2C%20%5B113.940674%2C%2022.293663%5D%2C%20%5B113.944691%2C%2022.290499%5D%2C%20%5B113.949365%2C%2022.29206%5D%5D%5D%2C%20%22type%22%3A%20%22Polygon%22%7D%2C%20%22id%22%3A%20%2288411cb445fffff%22%2C%20%22properties%22%3A%20%7B%22value%22%3A%201%7D%2C%20%22type%22%3A%20%22Feature%22%7D%5D%2C%20%22type%22%3A%20%22FeatureCollection%22%7D%29%3B%0A%0A%20%20%20%20%20%20%20%20%0A%20%20%20%20%0A%20%20%20%20var%20color_map_8a40a87c84d542418be65a5b450ea722%20%3D%20%7B%7D%3B%0A%0A%20%20%20%20%0A%20%20%20%20color_map_8a40a87c84d542418be65a5b450ea722.color%20%3D%20d3.scale.threshold%28%29%0A%20%20%20%20%20%20%20%20%20%20%20%20%20%20.domain%28%5B1.0%2C%201.0440881763527055%2C%201.088176352705411%2C%201.1322645290581161%2C%201.1763527054108216%2C%201.220440881763527%2C%201.2645290581162325%2C%201.308617234468938%2C%201.3527054108216432%2C%201.3967935871743486%2C%201.440881763527054%2C%201.4849699398797596%2C%201.529058116232465%2C%201.5731462925851702%2C%201.6172344689378757%2C%201.6613226452905812%2C%201.7054108216432866%2C%201.749498997995992%2C%201.7935871743486973%2C%201.8376753507014028%2C%201.8817635270541082%2C%201.9258517034068137%2C%201.9699398797595191%2C%202.0140280561122244%2C%202.05811623246493%2C%202.1022044088176353%2C%202.1462925851703405%2C%202.190380761523046%2C%202.2344689378757514%2C%202.278557114228457%2C%202.3226452905811623%2C%202.3667334669338675%2C%202.4108216432865732%2C%202.4549098196392785%2C%202.498997995991984%2C%202.5430861723446894%2C%202.5871743486973946%2C%202.6312625250501003%2C%202.6753507014028055%2C%202.719438877755511%2C%202.7635270541082164%2C%202.8076152304609217%2C%202.8517034068136273%2C%202.8957915831663326%2C%202.9398797595190382%2C%202.9839679358717435%2C%203.0280561122244487%2C%203.0721442885771544%2C%203.1162324649298596%2C%203.1603206412825653%2C%203.2044088176352705%2C%203.2484969939879758%2C%203.2925851703406814%2C%203.3366733466933867%2C%203.3807615230460923%2C%203.4248496993987976%2C%203.468937875751503%2C%203.5130260521042085%2C%203.5571142284569137%2C%203.6012024048096194%2C%203.6452905811623246%2C%203.68937875751503%2C%203.7334669338677355%2C%203.7775551102204408%2C%203.8216432865731464%2C%203.8657314629258517%2C%203.909819639278557%2C%203.9539078156312626%2C%203.997995991983968%2C%204.0420841683366735%2C%204.086172344689379%2C%204.130260521042084%2C%204.174348697394789%2C%204.218436873747494%2C%204.2625250501002006%2C%204.306613226452906%2C%204.350701402805611%2C%204.394789579158317%2C%204.438877755511022%2C%204.482965931863728%2C%204.527054108216433%2C%204.571142284569138%2C%204.615230460921843%2C%204.6593186372745485%2C%204.703406813627255%2C%204.74749498997996%2C%204.791583166332665%2C%204.835671342685371%2C%204.8797595190380765%2C%204.923847695390782%2C%204.967935871743487%2C%205.012024048096192%2C%205.056112224448897%2C%205.1002004008016035%2C%205.144288577154309%2C%205.188376753507014%2C%205.232464929859719%2C%205.2765531062124245%2C%205.320641282565131%2C%205.364729458917836%2C%205.408817635270541%2C%205.452905811623246%2C%205.4969939879759515%2C%205.541082164328658%2C%205.585170340681363%2C%205.629258517034068%2C%205.673346693386773%2C%205.717434869739479%2C%205.761523046092185%2C%205.80561122244489%2C%205.849699398797595%2C%205.8937875751503%2C%205.937875751503006%2C%205.981963927855712%2C%206.026052104208417%2C%206.070140280561122%2C%206.114228456913827%2C%206.158316633266533%2C%206.202404809619239%2C%206.246492985971944%2C%206.290581162324649%2C%206.3346693386773545%2C%206.37875751503006%2C%206.422845691382766%2C%206.466933867735471%2C%206.511022044088176%2C%206.5551102204408815%2C%206.599198396793587%2C%206.643286573146293%2C%206.687374749498998%2C%206.731462925851703%2C%206.775551102204409%2C%206.819639278557114%2C%206.86372745490982%2C%206.907815631262525%2C%206.95190380761523%2C%206.995991983967936%2C%207.040080160320641%2C%207.084168336673347%2C%207.128256513026052%2C%207.1723446893787575%2C%207.216432865731463%2C%207.260521042084168%2C%207.304609218436874%2C%207.348697394789579%2C%207.3927855711422845%2C%207.43687374749499%2C%207.480961923847695%2C%207.525050100200401%2C%207.569138276553106%2C%207.613226452905812%2C%207.657314629258517%2C%207.701402805611222%2C%207.745490981963928%2C%207.789579158316633%2C%207.833667334669339%2C%207.877755511022044%2C%207.921843687374749%2C%207.965931863727455%2C%208.01002004008016%2C%208.054108216432866%2C%208.098196392785571%2C%208.142284569138276%2C%208.186372745490981%2C%208.230460921843687%2C%208.274549098196392%2C%208.318637274549097%2C%208.362725450901802%2C%208.40681362725451%2C%208.450901803607215%2C%208.49498997995992%2C%208.539078156312625%2C%208.58316633266533%2C%208.627254509018037%2C%208.671342685370742%2C%208.715430861723448%2C%208.759519038076153%2C%208.803607214428858%2C%208.847695390781563%2C%208.891783567134269%2C%208.935871743486974%2C%208.97995991983968%2C%209.024048096192384%2C%209.06813627254509%2C%209.112224448897795%2C%209.156312625250502%2C%209.200400801603207%2C%209.244488977955912%2C%209.288577154308618%2C%209.332665330661323%2C%209.376753507014028%2C%209.420841683366733%2C%209.464929859719438%2C%209.509018036072144%2C%209.553106212424849%2C%209.597194388777556%2C%209.641282565130261%2C%209.685370741482966%2C%209.729458917835672%2C%209.773547094188377%2C%209.817635270541082%2C%209.861723446893787%2C%209.905811623246493%2C%209.949899799599198%2C%209.993987975951903%2C%2010.03807615230461%2C%2010.082164328657315%2C%2010.12625250501002%2C%2010.170340681362726%2C%2010.214428857715431%2C%2010.258517034068136%2C%2010.302605210420841%2C%2010.346693386773547%2C%2010.390781563126252%2C%2010.434869739478957%2C%2010.478957915831664%2C%2010.52304609218437%2C%2010.567134268537075%2C%2010.61122244488978%2C%2010.655310621242485%2C%2010.69939879759519%2C%2010.743486973947896%2C%2010.7875751503006%2C%2010.831663326653306%2C%2010.875751503006011%2C%2010.919839679358718%2C%2010.963927855711423%2C%2011.008016032064129%2C%2011.052104208416834%2C%2011.09619238476954%2C%2011.140280561122244%2C%2011.18436873747495%2C%2011.228456913827655%2C%2011.27254509018036%2C%2011.316633266533065%2C%2011.360721442885772%2C%2011.404809619238478%2C%2011.448897795591183%2C%2011.492985971943888%2C%2011.537074148296593%2C%2011.581162324649299%2C%2011.625250501002004%2C%2011.669338677354709%2C%2011.713426853707414%2C%2011.75751503006012%2C%2011.801603206412826%2C%2011.845691382765532%2C%2011.889779559118237%2C%2011.933867735470942%2C%2011.977955911823647%2C%2012.022044088176353%2C%2012.066132264529058%2C%2012.110220440881763%2C%2012.154308617234468%2C%2012.198396793587174%2C%2012.24248496993988%2C%2012.286573146292586%2C%2012.330661322645291%2C%2012.374749498997996%2C%2012.418837675350701%2C%2012.462925851703407%2C%2012.507014028056112%2C%2012.551102204408817%2C%2012.595190380761522%2C%2012.639278557114228%2C%2012.683366733466935%2C%2012.72745490981964%2C%2012.771543086172345%2C%2012.81563126252505%2C%2012.859719438877756%2C%2012.90380761523046%2C%2012.947895791583166%2C%2012.991983967935871%2C%2013.036072144288577%2C%2013.080160320641282%2C%2013.124248496993989%2C%2013.168336673346694%2C%2013.2124248496994%2C%2013.256513026052104%2C%2013.30060120240481%2C%2013.344689378757515%2C%2013.38877755511022%2C%2013.432865731462925%2C%2013.47695390781563%2C%2013.521042084168336%2C%2013.565130260521043%2C%2013.609218436873748%2C%2013.653306613226453%2C%2013.697394789579159%2C%2013.741482965931864%2C%2013.785571142284569%2C%2013.829659318637274%2C%2013.87374749498998%2C%2013.917835671342685%2C%2013.96192384769539%2C%2014.006012024048097%2C%2014.050100200400802%2C%2014.094188376753507%2C%2014.138276553106213%2C%2014.182364729458918%2C%2014.226452905811623%2C%2014.270541082164328%2C%2014.314629258517034%2C%2014.358717434869739%2C%2014.402805611222444%2C%2014.446893787575151%2C%2014.490981963927856%2C%2014.535070140280562%2C%2014.579158316633267%2C%2014.623246492985972%2C%2014.667334669338677%2C%2014.711422845691382%2C%2014.755511022044088%2C%2014.799599198396793%2C%2014.843687374749498%2C%2014.887775551102205%2C%2014.93186372745491%2C%2014.975951903807616%2C%2015.02004008016032%2C%2015.064128256513026%2C%2015.108216432865731%2C%2015.152304609218437%2C%2015.196392785571142%2C%2015.240480961923847%2C%2015.284569138276552%2C%2015.32865731462926%2C%2015.372745490981965%2C%2015.41683366733467%2C%2015.460921843687375%2C%2015.50501002004008%2C%2015.549098196392785%2C%2015.59318637274549%2C%2015.637274549098196%2C%2015.681362725450901%2C%2015.725450901803606%2C%2015.769539078156313%2C%2015.813627254509019%2C%2015.857715430861724%2C%2015.901803607214429%2C%2015.945891783567134%2C%2015.98997995991984%2C%2016.034068136272545%2C%2016.07815631262525%2C%2016.122244488977955%2C%2016.16633266533066%2C%2016.210420841683366%2C%2016.254509018036075%2C%2016.298597194388776%2C%2016.342685370741485%2C%2016.386773547094187%2C%2016.430861723446895%2C%2016.474949899799597%2C%2016.519038076152306%2C%2016.563126252505008%2C%2016.607214428857716%2C%2016.65130260521042%2C%2016.695390781563127%2C%2016.739478957915832%2C%2016.783567134268537%2C%2016.827655310621243%2C%2016.871743486973948%2C%2016.915831663326653%2C%2016.95991983967936%2C%2017.004008016032063%2C%2017.04809619238477%2C%2017.092184368737474%2C%2017.13627254509018%2C%2017.180360721442884%2C%2017.22444889779559%2C%2017.268537074148295%2C%2017.312625250501004%2C%2017.35671342685371%2C%2017.400801603206414%2C%2017.44488977955912%2C%2017.488977955911825%2C%2017.53306613226453%2C%2017.577154308617235%2C%2017.62124248496994%2C%2017.665330661322646%2C%2017.70941883767535%2C%2017.753507014028056%2C%2017.79759519038076%2C%2017.841683366733466%2C%2017.88577154308617%2C%2017.929859719438877%2C%2017.973947895791582%2C%2018.018036072144287%2C%2018.062124248496993%2C%2018.106212424849698%2C%2018.150300601202403%2C%2018.194388777555112%2C%2018.238476953907817%2C%2018.282565130260522%2C%2018.326653306613228%2C%2018.370741482965933%2C%2018.414829659318638%2C%2018.458917835671343%2C%2018.50300601202405%2C%2018.547094188376754%2C%2018.59118236472946%2C%2018.635270541082164%2C%2018.67935871743487%2C%2018.723446893787575%2C%2018.76753507014028%2C%2018.811623246492985%2C%2018.85571142284569%2C%2018.899799599198396%2C%2018.9438877755511%2C%2018.987975951903806%2C%2019.03206412825651%2C%2019.07615230460922%2C%2019.120240480961925%2C%2019.16432865731463%2C%2019.208416833667336%2C%2019.25250501002004%2C%2019.296593186372746%2C%2019.34068136272545%2C%2019.384769539078157%2C%2019.428857715430862%2C%2019.472945891783567%2C%2019.517034068136272%2C%2019.561122244488978%2C%2019.605210420841683%2C%2019.649298597194388%2C%2019.693386773547093%2C%2019.7374749498998%2C%2019.781563126252504%2C%2019.82565130260521%2C%2019.869739478957914%2C%2019.91382765531062%2C%2019.95791583166333%2C%2020.002004008016034%2C%2020.04609218436874%2C%2020.090180360721444%2C%2020.13426853707415%2C%2020.178356713426854%2C%2020.22244488977956%2C%2020.266533066132265%2C%2020.31062124248497%2C%2020.354709418837675%2C%2020.39879759519038%2C%2020.442885771543086%2C%2020.48697394789579%2C%2020.531062124248496%2C%2020.5751503006012%2C%2020.619238476953907%2C%2020.663326653306612%2C%2020.707414829659317%2C%2020.751503006012022%2C%2020.795591182364728%2C%2020.839679358717436%2C%2020.88376753507014%2C%2020.927855711422847%2C%2020.971943887775552%2C%2021.016032064128257%2C%2021.060120240480963%2C%2021.104208416833668%2C%2021.148296593186373%2C%2021.19238476953908%2C%2021.236472945891784%2C%2021.28056112224449%2C%2021.324649298597194%2C%2021.3687374749499%2C%2021.412825651302605%2C%2021.45691382765531%2C%2021.501002004008015%2C%2021.54509018036072%2C%2021.589178356713425%2C%2021.63326653306613%2C%2021.677354709418836%2C%2021.721442885771545%2C%2021.76553106212425%2C%2021.809619238476955%2C%2021.85370741482966%2C%2021.897795591182366%2C%2021.94188376753507%2C%2021.985971943887776%2C%2022.03006012024048%2C%2022.074148296593187%2C%2022.118236472945892%2C%2022.162324649298597%2C%2022.206412825651302%2C%2022.250501002004007%2C%2022.294589178356713%2C%2022.338677354709418%2C%2022.382765531062123%2C%2022.42685370741483%2C%2022.470941883767534%2C%2022.51503006012024%2C%2022.559118236472944%2C%2022.603206412825653%2C%2022.647294589178358%2C%2022.691382765531063%2C%2022.73547094188377%2C%2022.779559118236474%2C%2022.82364729458918%2C%2022.867735470941884%2C%2022.91182364729459%2C%2022.955911823647295%2C%2023.0%5D%29%0A%20%20%20%20%20%20%20%20%20%20%20%20%20%20.range%28%5B%27%23ffc0cbff%27%2C%20%27%23ffc0cbff%27%2C%20%27%23ffbfcbff%27%2C%20%27%23ffbecaff%27%2C%20%27%23ffbecaff%27%2C%20%27%23febdcaff%27%2C%20%27%23febccaff%27%2C%20%27%23febbc9ff%27%2C%20%27%23febbc9ff%27%2C%20%27%23fdbac9ff%27%2C%20%27%23fdb9c8ff%27%2C%20%27%23fdb9c8ff%27%2C%20%27%23fdb8c8ff%27%2C%20%27%23fdb7c8ff%27%2C%20%27%23fcb7c7ff%27%2C%20%27%23fcb6c7ff%27%2C%20%27%23fcb5c7ff%27%2C%20%27%23fcb5c7ff%27%2C%20%27%23fbb4c6ff%27%2C%20%27%23fbb3c6ff%27%2C%20%27%23fbb2c6ff%27%2C%20%27%23fbb2c5ff%27%2C%20%27%23fbb1c5ff%27%2C%20%27%23fab0c5ff%27%2C%20%27%23fab0c5ff%27%2C%20%27%23faafc4ff%27%2C%20%27%23faaec4ff%27%2C%20%27%23f9aec4ff%27%2C%20%27%23f9adc3ff%27%2C%20%27%23f9acc3ff%27%2C%20%27%23f9acc3ff%27%2C%20%27%23f9abc3ff%27%2C%20%27%23f8aac2ff%27%2C%20%27%23f8aac2ff%27%2C%20%27%23f8a9c2ff%27%2C%20%27%23f8a8c1ff%27%2C%20%27%23f7a7c1ff%27%2C%20%27%23f7a7c1ff%27%2C%20%27%23f7a6c1ff%27%2C%20%27%23f7a5c0ff%27%2C%20%27%23f6a5c0ff%27%2C%20%27%23f6a4c0ff%27%2C%20%27%23f6a3bfff%27%2C%20%27%23f6a3bfff%27%2C%20%27%23f6a2bfff%27%2C%20%27%23f5a1bfff%27%2C%20%27%23f5a1beff%27%2C%20%27%23f5a0beff%27%2C%20%27%23f59fbeff%27%2C%20%27%23f49fbdff%27%2C%20%27%23f49ebdff%27%2C%20%27%23f49dbdff%27%2C%20%27%23f49cbdff%27%2C%20%27%23f49cbcff%27%2C%20%27%23f39bbcff%27%2C%20%27%23f39abcff%27%2C%20%27%23f39abcff%27%2C%20%27%23f399bbff%27%2C%20%27%23f298bbff%27%2C%20%27%23f298bbff%27%2C%20%27%23f297baff%27%2C%20%27%23f296baff%27%2C%20%27%23f296baff%27%2C%20%27%23f195baff%27%2C%20%27%23f194b9ff%27%2C%20%27%23f194b9ff%27%2C%20%27%23f193b9ff%27%2C%20%27%23f092b8ff%27%2C%20%27%23f091b8ff%27%2C%20%27%23f091b8ff%27%2C%20%27%23f090b8ff%27%2C%20%27%23f08fb7ff%27%2C%20%27%23ef8fb7ff%27%2C%20%27%23ef8eb7ff%27%2C%20%27%23ef8db6ff%27%2C%20%27%23ef8db6ff%27%2C%20%27%23ee8cb6ff%27%2C%20%27%23ee8bb6ff%27%2C%20%27%23ee8bb5ff%27%2C%20%27%23ee8ab5ff%27%2C%20%27%23ed89b5ff%27%2C%20%27%23ed89b4ff%27%2C%20%27%23ed88b4ff%27%2C%20%27%23ed87b4ff%27%2C%20%27%23ed86b4ff%27%2C%20%27%23ec86b3ff%27%2C%20%27%23ec85b3ff%27%2C%20%27%23ec84b3ff%27%2C%20%27%23ec84b3ff%27%2C%20%27%23eb83b2ff%27%2C%20%27%23eb82b2ff%27%2C%20%27%23eb82b2ff%27%2C%20%27%23eb81b1ff%27%2C%20%27%23eb80b1ff%27%2C%20%27%23ea80b1ff%27%2C%20%27%23ea7fb1ff%27%2C%20%27%23ea7eb0ff%27%2C%20%27%23ea7eb0ff%27%2C%20%27%23e97db0ff%27%2C%20%27%23e97cafff%27%2C%20%27%23e97bafff%27%2C%20%27%23e97bafff%27%2C%20%27%23e97aafff%27%2C%20%27%23e879aeff%27%2C%20%27%23e879aeff%27%2C%20%27%23e878aeff%27%2C%20%27%23e877adff%27%2C%20%27%23e777adff%27%2C%20%27%23e776adff%27%2C%20%27%23e775adff%27%2C%20%27%23e775acff%27%2C%20%27%23e674acff%27%2C%20%27%23e673acff%27%2C%20%27%23e673abff%27%2C%20%27%23e672abff%27%2C%20%27%23e671abff%27%2C%20%27%23e570abff%27%2C%20%27%23e570aaff%27%2C%20%27%23e56faaff%27%2C%20%27%23e56eaaff%27%2C%20%27%23e46ea9ff%27%2C%20%27%23e46da9ff%27%2C%20%27%23e46ca9ff%27%2C%20%27%23e46ca9ff%27%2C%20%27%23e46ba8ff%27%2C%20%27%23e36aa8ff%27%2C%20%27%23e36aa8ff%27%2C%20%27%23e369a8ff%27%2C%20%27%23e368a7ff%27%2C%20%27%23e267a7ff%27%2C%20%27%23e267a7ff%27%2C%20%27%23e266a6ff%27%2C%20%27%23e265a6ff%27%2C%20%27%23e265a6ff%27%2C%20%27%23e164a6ff%27%2C%20%27%23e163a5ff%27%2C%20%27%23e163a5ff%27%2C%20%27%23e162a5ff%27%2C%20%27%23e061a4ff%27%2C%20%27%23e061a4ff%27%2C%20%27%23e060a4ff%27%2C%20%27%23e05fa4ff%27%2C%20%27%23e05fa3ff%27%2C%20%27%23df5ea3ff%27%2C%20%27%23df5da3ff%27%2C%20%27%23df5ca2ff%27%2C%20%27%23df5ca2ff%27%2C%20%27%23de5ba2ff%27%2C%20%27%23de5aa2ff%27%2C%20%27%23de5aa1ff%27%2C%20%27%23de59a1ff%27%2C%20%27%23dd58a1ff%27%2C%20%27%23dd58a0ff%27%2C%20%27%23dd57a0ff%27%2C%20%27%23dd56a0ff%27%2C%20%27%23dd56a0ff%27%2C%20%27%23dc559fff%27%2C%20%27%23dc549fff%27%2C%20%27%23dc549fff%27%2C%20%27%23dc539fff%27%2C%20%27%23db529eff%27%2C%20%27%23db519eff%27%2C%20%27%23db519eff%27%2C%20%27%23db509dff%27%2C%20%27%23db4f9dff%27%2C%20%27%23da4f9dff%27%2C%20%27%23da4e9dff%27%2C%20%27%23da4d9cff%27%2C%20%27%23da4d9cff%27%2C%20%27%23d94c9cff%27%2C%20%27%23d94b9bff%27%2C%20%27%23d94b9bff%27%2C%20%27%23d94a9bff%27%2C%20%27%23d9499bff%27%2C%20%27%23d8499aff%27%2C%20%27%23d8489aff%27%2C%20%27%23d8479aff%27%2C%20%27%23d84699ff%27%2C%20%27%23d74699ff%27%2C%20%27%23d74599ff%27%2C%20%27%23d74499ff%27%2C%20%27%23d74498ff%27%2C%20%27%23d64398ff%27%2C%20%27%23d64298ff%27%2C%20%27%23d64297ff%27%2C%20%27%23d64197ff%27%2C%20%27%23d64097ff%27%2C%20%27%23d54097ff%27%2C%20%27%23d53f96ff%27%2C%20%27%23d53e96ff%27%2C%20%27%23d53e96ff%27%2C%20%27%23d43d95ff%27%2C%20%27%23d43c95ff%27%2C%20%27%23d43b95ff%27%2C%20%27%23d43b95ff%27%2C%20%27%23d43a94ff%27%2C%20%27%23d33994ff%27%2C%20%27%23d33994ff%27%2C%20%27%23d33894ff%27%2C%20%27%23d33793ff%27%2C%20%27%23d23793ff%27%2C%20%27%23d23693ff%27%2C%20%27%23d23592ff%27%2C%20%27%23d23592ff%27%2C%20%27%23d23492ff%27%2C%20%27%23d13392ff%27%2C%20%27%23d13391ff%27%2C%20%27%23d13291ff%27%2C%20%27%23d13191ff%27%2C%20%27%23d03090ff%27%2C%20%27%23d03090ff%27%2C%20%27%23d02f90ff%27%2C%20%27%23d02e90ff%27%2C%20%27%23d02e8fff%27%2C%20%27%23cf2d8fff%27%2C%20%27%23cf2c8fff%27%2C%20%27%23cf2c8eff%27%2C%20%27%23cf2b8eff%27%2C%20%27%23ce2a8eff%27%2C%20%27%23ce2a8eff%27%2C%20%27%23ce298dff%27%2C%20%27%23ce288dff%27%2C%20%27%23cd288dff%27%2C%20%27%23cd278cff%27%2C%20%27%23cd268cff%27%2C%20%27%23cd258cff%27%2C%20%27%23cd258cff%27%2C%20%27%23cc248bff%27%2C%20%27%23cc238bff%27%2C%20%27%23cc238bff%27%2C%20%27%23cc228bff%27%2C%20%27%23cb218aff%27%2C%20%27%23cb218aff%27%2C%20%27%23cb208aff%27%2C%20%27%23cb1f89ff%27%2C%20%27%23cb1f89ff%27%2C%20%27%23ca1e89ff%27%2C%20%27%23ca1d89ff%27%2C%20%27%23ca1c88ff%27%2C%20%27%23ca1c88ff%27%2C%20%27%23c91b88ff%27%2C%20%27%23c91a87ff%27%2C%20%27%23c91a87ff%27%2C%20%27%23c91987ff%27%2C%20%27%23c91887ff%27%2C%20%27%23c81886ff%27%2C%20%27%23c81786ff%27%2C%20%27%23c81686ff%27%2C%20%27%23c81685ff%27%2C%20%27%23c71585ff%27%2C%20%27%23c71585ff%27%2C%20%27%23c81484ff%27%2C%20%27%23c81484ff%27%2C%20%27%23c81483ff%27%2C%20%27%23c81483ff%27%2C%20%27%23c91482ff%27%2C%20%27%23c91482ff%27%2C%20%27%23c91481ff%27%2C%20%27%23c91480ff%27%2C%20%27%23c91480ff%27%2C%20%27%23ca147fff%27%2C%20%27%23ca147fff%27%2C%20%27%23ca147eff%27%2C%20%27%23ca137eff%27%2C%20%27%23cb137dff%27%2C%20%27%23cb137dff%27%2C%20%27%23cb137cff%27%2C%20%27%23cb137cff%27%2C%20%27%23cb137bff%27%2C%20%27%23cc137bff%27%2C%20%27%23cc137aff%27%2C%20%27%23cc137aff%27%2C%20%27%23cc1379ff%27%2C%20%27%23cd1378ff%27%2C%20%27%23cd1378ff%27%2C%20%27%23cd1277ff%27%2C%20%27%23cd1277ff%27%2C%20%27%23cd1276ff%27%2C%20%27%23ce1276ff%27%2C%20%27%23ce1275ff%27%2C%20%27%23ce1275ff%27%2C%20%27%23ce1274ff%27%2C%20%27%23cf1274ff%27%2C%20%27%23cf1273ff%27%2C%20%27%23cf1273ff%27%2C%20%27%23cf1272ff%27%2C%20%27%23d01171ff%27%2C%20%27%23d01171ff%27%2C%20%27%23d01170ff%27%2C%20%27%23d01170ff%27%2C%20%27%23d0116fff%27%2C%20%27%23d1116fff%27%2C%20%27%23d1116eff%27%2C%20%27%23d1116eff%27%2C%20%27%23d1116dff%27%2C%20%27%23d2116dff%27%2C%20%27%23d2116cff%27%2C%20%27%23d2116cff%27%2C%20%27%23d2106bff%27%2C%20%27%23d2106bff%27%2C%20%27%23d3106aff%27%2C%20%27%23d31069ff%27%2C%20%27%23d31069ff%27%2C%20%27%23d31068ff%27%2C%20%27%23d41068ff%27%2C%20%27%23d41067ff%27%2C%20%27%23d41067ff%27%2C%20%27%23d41066ff%27%2C%20%27%23d41066ff%27%2C%20%27%23d51065ff%27%2C%20%27%23d50f65ff%27%2C%20%27%23d50f64ff%27%2C%20%27%23d50f64ff%27%2C%20%27%23d60f63ff%27%2C%20%27%23d60f63ff%27%2C%20%27%23d60f62ff%27%2C%20%27%23d60f61ff%27%2C%20%27%23d60f61ff%27%2C%20%27%23d70f60ff%27%2C%20%27%23d70f60ff%27%2C%20%27%23d70f5fff%27%2C%20%27%23d70f5fff%27%2C%20%27%23d80e5eff%27%2C%20%27%23d80e5eff%27%2C%20%27%23d80e5dff%27%2C%20%27%23d80e5dff%27%2C%20%27%23d90e5cff%27%2C%20%27%23d90e5cff%27%2C%20%27%23d90e5bff%27%2C%20%27%23d90e5aff%27%2C%20%27%23d90e5aff%27%2C%20%27%23da0e59ff%27%2C%20%27%23da0e59ff%27%2C%20%27%23da0e58ff%27%2C%20%27%23da0d58ff%27%2C%20%27%23db0d57ff%27%2C%20%27%23db0d57ff%27%2C%20%27%23db0d56ff%27%2C%20%27%23db0d56ff%27%2C%20%27%23db0d55ff%27%2C%20%27%23dc0d55ff%27%2C%20%27%23dc0d54ff%27%2C%20%27%23dc0d54ff%27%2C%20%27%23dc0d53ff%27%2C%20%27%23dd0d52ff%27%2C%20%27%23dd0d52ff%27%2C%20%27%23dd0c51ff%27%2C%20%27%23dd0c51ff%27%2C%20%27%23dd0c50ff%27%2C%20%27%23de0c50ff%27%2C%20%27%23de0c4fff%27%2C%20%27%23de0c4fff%27%2C%20%27%23de0c4eff%27%2C%20%27%23df0c4eff%27%2C%20%27%23df0c4dff%27%2C%20%27%23df0c4dff%27%2C%20%27%23df0c4cff%27%2C%20%27%23e00b4bff%27%2C%20%27%23e00b4bff%27%2C%20%27%23e00b4aff%27%2C%20%27%23e00b4aff%27%2C%20%27%23e00b49ff%27%2C%20%27%23e10b49ff%27%2C%20%27%23e10b48ff%27%2C%20%27%23e10b48ff%27%2C%20%27%23e10b47ff%27%2C%20%27%23e20b47ff%27%2C%20%27%23e20b46ff%27%2C%20%27%23e20b46ff%27%2C%20%27%23e20a45ff%27%2C%20%27%23e20a45ff%27%2C%20%27%23e30a44ff%27%2C%20%27%23e30a43ff%27%2C%20%27%23e30a43ff%27%2C%20%27%23e30a42ff%27%2C%20%27%23e40a42ff%27%2C%20%27%23e40a41ff%27%2C%20%27%23e40a41ff%27%2C%20%27%23e40a40ff%27%2C%20%27%23e40a40ff%27%2C%20%27%23e50a3fff%27%2C%20%27%23e5093fff%27%2C%20%27%23e5093eff%27%2C%20%27%23e5093eff%27%2C%20%27%23e6093dff%27%2C%20%27%23e6093dff%27%2C%20%27%23e6093cff%27%2C%20%27%23e6093bff%27%2C%20%27%23e6093bff%27%2C%20%27%23e7093aff%27%2C%20%27%23e7093aff%27%2C%20%27%23e70939ff%27%2C%20%27%23e70939ff%27%2C%20%27%23e80838ff%27%2C%20%27%23e80838ff%27%2C%20%27%23e80837ff%27%2C%20%27%23e80837ff%27%2C%20%27%23e90836ff%27%2C%20%27%23e90836ff%27%2C%20%27%23e90835ff%27%2C%20%27%23e90834ff%27%2C%20%27%23e90834ff%27%2C%20%27%23ea0833ff%27%2C%20%27%23ea0833ff%27%2C%20%27%23ea0832ff%27%2C%20%27%23ea0732ff%27%2C%20%27%23eb0731ff%27%2C%20%27%23eb0731ff%27%2C%20%27%23eb0730ff%27%2C%20%27%23eb0730ff%27%2C%20%27%23eb072fff%27%2C%20%27%23ec072fff%27%2C%20%27%23ec072eff%27%2C%20%27%23ec072eff%27%2C%20%27%23ec072dff%27%2C%20%27%23ed072cff%27%2C%20%27%23ed072cff%27%2C%20%27%23ed062bff%27%2C%20%27%23ed062bff%27%2C%20%27%23ed062aff%27%2C%20%27%23ee062aff%27%2C%20%27%23ee0629ff%27%2C%20%27%23ee0629ff%27%2C%20%27%23ee0628ff%27%2C%20%27%23ef0628ff%27%2C%20%27%23ef0627ff%27%2C%20%27%23ef0627ff%27%2C%20%27%23ef0626ff%27%2C%20%27%23f00525ff%27%2C%20%27%23f00525ff%27%2C%20%27%23f00524ff%27%2C%20%27%23f00524ff%27%2C%20%27%23f00523ff%27%2C%20%27%23f10523ff%27%2C%20%27%23f10522ff%27%2C%20%27%23f10522ff%27%2C%20%27%23f10521ff%27%2C%20%27%23f20521ff%27%2C%20%27%23f20520ff%27%2C%20%27%23f20520ff%27%2C%20%27%23f2041fff%27%2C%20%27%23f2041fff%27%2C%20%27%23f3041eff%27%2C%20%27%23f3041dff%27%2C%20%27%23f3041dff%27%2C%20%27%23f3041cff%27%2C%20%27%23f4041cff%27%2C%20%27%23f4041bff%27%2C%20%27%23f4041bff%27%2C%20%27%23f4041aff%27%2C%20%27%23f4041aff%27%2C%20%27%23f50419ff%27%2C%20%27%23f50319ff%27%2C%20%27%23f50318ff%27%2C%20%27%23f50318ff%27%2C%20%27%23f60317ff%27%2C%20%27%23f60317ff%27%2C%20%27%23f60316ff%27%2C%20%27%23f60315ff%27%2C%20%27%23f60315ff%27%2C%20%27%23f70314ff%27%2C%20%27%23f70314ff%27%2C%20%27%23f70313ff%27%2C%20%27%23f70313ff%27%2C%20%27%23f80212ff%27%2C%20%27%23f80212ff%27%2C%20%27%23f80211ff%27%2C%20%27%23f80211ff%27%2C%20%27%23f90210ff%27%2C%20%27%23f90210ff%27%2C%20%27%23f9020fff%27%2C%20%27%23f9020eff%27%2C%20%27%23f9020eff%27%2C%20%27%23fa020dff%27%2C%20%27%23fa020dff%27%2C%20%27%23fa020cff%27%2C%20%27%23fa010cff%27%2C%20%27%23fb010bff%27%2C%20%27%23fb010bff%27%2C%20%27%23fb010aff%27%2C%20%27%23fb010aff%27%2C%20%27%23fb0109ff%27%2C%20%27%23fc0109ff%27%2C%20%27%23fc0108ff%27%2C%20%27%23fc0108ff%27%2C%20%27%23fc0107ff%27%2C%20%27%23fd0106ff%27%2C%20%27%23fd0106ff%27%2C%20%27%23fd0005ff%27%2C%20%27%23fd0005ff%27%2C%20%27%23fd0004ff%27%2C%20%27%23fe0004ff%27%2C%20%27%23fe0003ff%27%2C%20%27%23fe0003ff%27%2C%20%27%23fe0002ff%27%2C%20%27%23ff0002ff%27%2C%20%27%23ff0001ff%27%2C%20%27%23ff0001ff%27%2C%20%27%23ff0000ff%27%2C%20%27%23ff0000ff%27%5D%29%3B%0A%20%20%20%20%0A%0A%20%20%20%20color_map_8a40a87c84d542418be65a5b450ea722.x%20%3D%20d3.scale.linear%28%29%0A%20%20%20%20%20%20%20%20%20%20%20%20%20%20.domain%28%5B1.0%2C%2023.0%5D%29%0A%20%20%20%20%20%20%20%20%20%20%20%20%20%20.range%28%5B0%2C%20400%5D%29%3B%0A%0A%20%20%20%20color_map_8a40a87c84d542418be65a5b450ea722.legend%20%3D%20L.control%28%7Bposition%3A%20%27topright%27%7D%29%3B%0A%20%20%20%20color_map_8a40a87c84d542418be65a5b450ea722.legend.onAdd%20%3D%20function%20%28map%29%20%7Bvar%20div%20%3D%20L.DomUtil.create%28%27div%27%2C%20%27legend%27%29%3B%20return%20div%7D%3B%0A%20%20%20%20color_map_8a40a87c84d542418be65a5b450ea722.legend.addTo%28map_4be80089ec9e44f9a1d1a92228c9d256%29%3B%0A%0A%20%20%20%20color_map_8a40a87c84d542418be65a5b450ea722.xAxis%20%3D%20d3.svg.axis%28%29%0A%20%20%20%20%20%20%20%20.scale%28color_map_8a40a87c84d542418be65a5b450ea722.x%29%0A%20%20%20%20%20%20%20%20.orient%28%22top%22%29%0A%20%20%20%20%20%20%20%20.tickSize%281%29%0A%20%20%20%20%20%20%20%20.tickValues%28%5B1.0%2C%2012.0%2C%2023.0%5D%29%3B%0A%0A%20%20%20%20color_map_8a40a87c84d542418be65a5b450ea722.svg%20%3D%20d3.select%28%22.legend.leaflet-control%22%29.append%28%22svg%22%29%0A%20%20%20%20%20%20%20%20.attr%28%22id%22%2C%20%27legend%27%29%0A%20%20%20%20%20%20%20%20.attr%28%22width%22%2C%20450%29%0A%20%20%20%20%20%20%20%20.attr%28%22height%22%2C%2040%29%3B%0A%0A%20%20%20%20color_map_8a40a87c84d542418be65a5b450ea722.g%20%3D%20color_map_8a40a87c84d542418be65a5b450ea722.svg.append%28%22g%22%29%0A%20%20%20%20%20%20%20%20.attr%28%22class%22%2C%20%22key%22%29%0A%20%20%20%20%20%20%20%20.attr%28%22transform%22%2C%20%22translate%2825%2C16%29%22%29%3B%0A%0A%20%20%20%20color_map_8a40a87c84d542418be65a5b450ea722.g.selectAll%28%22rect%22%29%0A%20%20%20%20%20%20%20%20.data%28color_map_8a40a87c84d542418be65a5b450ea722.color.range%28%29.map%28function%28d%2C%20i%29%20%7B%0A%20%20%20%20%20%20%20%20%20%20return%20%7B%0A%20%20%20%20%20%20%20%20%20%20%20%20x0%3A%20i%20%3F%20color_map_8a40a87c84d542418be65a5b450ea722.x%28color_map_8a40a87c84d542418be65a5b450ea722.color.domain%28%29%5Bi%20-%201%5D%29%20%3A%20color_map_8a40a87c84d542418be65a5b450ea722.x.range%28%29%5B0%5D%2C%0A%20%20%20%20%20%20%20%20%20%20%20%20x1%3A%20i%20%3C%20color_map_8a40a87c84d542418be65a5b450ea722.color.domain%28%29.length%20%3F%20color_map_8a40a87c84d542418be65a5b450ea722.x%28color_map_8a40a87c84d542418be65a5b450ea722.color.domain%28%29%5Bi%5D%29%20%3A%20color_map_8a40a87c84d542418be65a5b450ea722.x.range%28%29%5B1%5D%2C%0A%20%20%20%20%20%20%20%20%20%20%20%20z%3A%20d%0A%20%20%20%20%20%20%20%20%20%20%7D%3B%0A%20%20%20%20%20%20%20%20%7D%29%29%0A%20%20%20%20%20%20.enter%28%29.append%28%22rect%22%29%0A%20%20%20%20%20%20%20%20.attr%28%22height%22%2C%2010%29%0A%20%20%20%20%20%20%20%20.attr%28%22x%22%2C%20function%28d%29%20%7B%20return%20d.x0%3B%20%7D%29%0A%20%20%20%20%20%20%20%20.attr%28%22width%22%2C%20function%28d%29%20%7B%20return%20d.x1%20-%20d.x0%3B%20%7D%29%0A%20%20%20%20%20%20%20%20.style%28%22fill%22%2C%20function%28d%29%20%7B%20return%20d.z%3B%20%7D%29%3B%0A%0A%20%20%20%20color_map_8a40a87c84d542418be65a5b450ea722.g.call%28color_map_8a40a87c84d542418be65a5b450ea722.xAxis%29.append%28%22text%22%29%0A%20%20%20%20%20%20%20%20.attr%28%22class%22%2C%20%22caption%22%29%0A%20%20%20%20%20%20%20%20.attr%28%22y%22%2C%2021%29%0A%20%20%20%20%20%20%20%20.text%28%27%27%29%3B%0A%3C/script%3E onload=\"this.contentDocument.open();this.contentDocument.write(    decodeURIComponent(this.getAttribute('data-html')));this.contentDocument.close();\" allowfullscreen webkitallowfullscreen mozallowfullscreen></iframe></div></div>"
      ],
      "text/plain": [
       "<folium.folium.Map at 0x7fce28536b20>"
      ]
     },
     "execution_count": 14,
     "metadata": {},
     "output_type": "execute_result"
    }
   ],
   "source": [
    "choropleth_map(df_aggreg, with_legend = True)"
   ]
  },
  {
   "cell_type": "markdown",
   "metadata": {},
   "source": [
    "# Thank You!"
   ]
  }
 ],
 "metadata": {
  "kernelspec": {
   "display_name": "Python 3",
   "language": "python",
   "name": "python3"
  },
  "language_info": {
   "codemirror_mode": {
    "name": "ipython",
    "version": 3
   },
   "file_extension": ".py",
   "mimetype": "text/x-python",
   "name": "python",
   "nbconvert_exporter": "python",
   "pygments_lexer": "ipython3",
   "version": "3.8.5"
  }
 },
 "nbformat": 4,
 "nbformat_minor": 4
}
